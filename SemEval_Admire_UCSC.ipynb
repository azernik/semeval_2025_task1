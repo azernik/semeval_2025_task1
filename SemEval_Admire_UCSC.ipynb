{
  "cells": [
    {
      "cell_type": "markdown",
      "metadata": {
        "id": "otLzgqFuKy4q"
      },
      "source": [
        "## Setup"
      ]
    },
    {
      "cell_type": "code",
      "execution_count": null,
      "metadata": {
        "id": "5fgXt-b3SbXu"
      },
      "outputs": [],
      "source": [
        "from google.colab import userdata\n",
        "from openai import OpenAI\n",
        "\n",
        "# OpenAI initialization\n",
        "client = OpenAI(api_key=userdata.get('OPENAI_PROJECT_KEY'))"
      ]
    },
    {
      "cell_type": "code",
      "source": [
        "import gdown\n",
        "import os\n",
        "import pandas as pd\n",
        "import json"
      ],
      "metadata": {
        "id": "AH_jK62hida8"
      },
      "execution_count": null,
      "outputs": []
    },
    {
      "cell_type": "code",
      "source": [
        "from google.colab import files"
      ],
      "metadata": {
        "id": "cRhSD182jH9b"
      },
      "execution_count": null,
      "outputs": []
    },
    {
      "cell_type": "markdown",
      "metadata": {
        "id": "9HDvXUFiHn9H"
      },
      "source": [
        "## Data loading and preprocessing\n",
        "select one of extended or test set to continue with."
      ]
    },
    {
      "cell_type": "markdown",
      "source": [
        "##### test set"
      ],
      "metadata": {
        "id": "9fPmvedoRQVF"
      }
    },
    {
      "cell_type": "code",
      "execution_count": null,
      "metadata": {
        "id": "fhczzv-RFL_G"
      },
      "outputs": [],
      "source": [
        "file_id = \"1GSw-7lcRmBUiypk3iyskvLLbC5Ip4BrE\" # test\n",
        "file_name = \"taskA_test.zip\"\n",
        "url = f\"https://drive.google.com/uc?id={file_id}\"\n",
        "gdown.download(url, file_name, quiet=True)\n",
        "! unzip -q - taskA_test.zip\n",
        "\n",
        "taska_folder = \"test\"\n",
        "taska_tsv_filename = \"subtask_a_test.tsv\"\n",
        "dataset = \"test\""
      ]
    },
    {
      "cell_type": "markdown",
      "source": [
        "#####  uncomment to instead run for extended set"
      ],
      "metadata": {
        "id": "PyOkld0UROzn"
      }
    },
    {
      "cell_type": "code",
      "source": [
        "# file_id = \"1MPD814bn8lktCTJZt2naTQAz02ffjd9l\"\n",
        "# file_name = \"taskA_ext.zip\"\n",
        "# url = f\"https://drive.google.com/uc?id={file_id}\"\n",
        "# gdown.download(url, file_name, quiet=True)\n",
        "# ! unzip -q - taskA_ext.zip\n",
        "\n",
        "# taska_folder = \"xeval\"\n",
        "# taska_tsv_filename = \"subtask_a_xe.tsv\"\n",
        "# dataset = \"xe\""
      ],
      "metadata": {
        "id": "Qqy8cEJhRMVI"
      },
      "execution_count": null,
      "outputs": []
    },
    {
      "cell_type": "markdown",
      "source": [
        "### Dataframe creation"
      ],
      "metadata": {
        "id": "LksbgUyKGT9T"
      }
    },
    {
      "cell_type": "markdown",
      "source": [
        "#### initialize df & preprocess image paths"
      ],
      "metadata": {
        "id": "qZvNFiadj7Qp"
      }
    },
    {
      "cell_type": "code",
      "execution_count": null,
      "metadata": {
        "id": "63HsE3LgHlJy"
      },
      "outputs": [],
      "source": [
        "df = pd.read_csv(f\"{taska_folder}/{taska_tsv_filename}\", delimiter=\"\\t\")"
      ]
    },
    {
      "cell_type": "markdown",
      "source": [
        "#### preprocess image paths for ranking"
      ],
      "metadata": {
        "id": "EmTFg1xmewIb"
      }
    },
    {
      "cell_type": "code",
      "execution_count": null,
      "metadata": {
        "id": "_Iq1ywZfFV0_"
      },
      "outputs": [],
      "source": [
        "def preprocess_data(df, dir_name):\n",
        "    \"\"\"\n",
        "    Loads and preprocesses the dataset, setting up image paths.\n",
        "    \"\"\"\n",
        "    image_name_cols = ['image1_name', 'image2_name', 'image3_name', 'image4_name', 'image5_name']\n",
        "    df['image_paths'] = df.apply(lambda row: [os.path.join(dir_name, row['compound'].replace(\"'\", \"_\"), row[image_name]) for image_name in image_name_cols], axis=1)\n",
        "    return df\n",
        "\n",
        "df = preprocess_data(df, taska_folder)"
      ]
    },
    {
      "cell_type": "markdown",
      "metadata": {
        "id": "0ok0L6UJh_wA"
      },
      "source": [
        "## Sentence type classification"
      ]
    },
    {
      "cell_type": "markdown",
      "source": [
        "##### Load saved results\n",
        "For extended dataset only. Instead of querying for new classifications (below), here's some we made earlier."
      ],
      "metadata": {
        "id": "tilTcFhVJp7u"
      }
    },
    {
      "cell_type": "code",
      "source": [
        "classification_results_file_id = \"1ZWztepcLYrjJu-3iww3MoJDgFPLyZ33C\"\n",
        "classification_results_file_name = \"classification_responses_ext.tsv\"\n",
        "\n",
        "url = f\"https://drive.google.com/uc?id={classification_results_file_id}\"\n",
        "gdown.download(url, classification_results_file_name, quiet=True)\n",
        "\n",
        "classification_df = pd.read_csv(classification_results_file_name, delimiter=\"\\t\")"
      ],
      "metadata": {
        "id": "xpqA5rsyJsVb"
      },
      "execution_count": null,
      "outputs": []
    },
    {
      "cell_type": "code",
      "source": [
        "df['sentence_type_pred'] = classification_df['result']"
      ],
      "metadata": {
        "id": "sSQu2M3GLxx5"
      },
      "execution_count": null,
      "outputs": []
    },
    {
      "cell_type": "markdown",
      "source": [
        "##### Define classification prompt"
      ],
      "metadata": {
        "id": "2nrl3zZgk7iq"
      }
    },
    {
      "cell_type": "code",
      "source": [
        "def get_gpt_sentence_types_prompt(samples):\n",
        "  return f\"\"\"\n",
        "You are a linguistics expert specializing in figurative language. You will be given a set of samples, each containing a 'target phrase' paired with a 'context sentence' containing a usage of said phrase.\n",
        "The target phrases all have idiomatic (i.e. figurative) meanings, but they might be used literally in these context sentences!\n",
        "For each sample, you are to do the following:\n",
        "1. Looking at the target phrase in isolation, state its *idiomatic* meaning and its *literal* meaning. The literal meaning might be awkward, as some of these phrases are almost always used idiomatically.\n",
        "2. *Carefully* consider how the target phrase is used in the context sentence. Is it used in its idiomatic sense (in most cases, they way that we're used to understanding it), or is it used as a literal composition of its component words?\n",
        "3. Verbose explanation: Given your familiarity with the phrase's possible meanings, and having considered how it\"s used in the sentence, give an explanation of what the phrase means in the context of the sentence. Remember: if the literal usage is *plausible*, it is probably used literally.\n",
        "4. Final usage determination: Based on steps 1-3, state whether the phrase\"s use in the context sentence is 'literal' or 'idiomatic'.\n",
        "\n",
        "Example input:\n",
        "Target phrase: 'cold turkey'\n",
        "Context sentence: 'John quit smoking cold turkey and never looked back, not that it was easy.'\n",
        "\n",
        "Target phrase: 'ghost town'\n",
        "Context sentence: 'Our wanderings had led us perilously close to the walls of the ghost town where restless spirits haunted the streets, eager to absorb the vitatlity of the living.'\n",
        "\n",
        "---\n",
        "\n",
        "Example response:\n",
        "{{\"data\": [\n",
        "    {{\n",
        "      \"target_phrase\": \"cold turkey\",\n",
        "      \"idiomatic_meaning\": \"To stop a habit or addiction abruptly and completely, without gradually reducing or tapering off. It often refers to ceasing a harmful behavior or substance like smoking or drugs.\",\n",
        "      \"literal_meaning\": \"A turkey that is cold.\"\n",
        "      \"contextual_considerations\": \"In the sentence, 'John quit smoking cold turkey and never looked back, not that it was easy,' the phrase 'cold turkey' clearly does not refer to food. It is used in the context of quitting smoking, which aligns with the idiomatic usage of the term.\",\n",
        "      \"verbose_explanation\": \"The phrase 'cold turkey' in this sentence means that John abruptly stopped smoking without tapering off or using substitutes like nicotine patches. The description highlights the difficulty of this approach, suggesting that quitting 'cold turkey' was challenging but ultimately successful. The context does not mention anything about literal turkey, further affirming the idiomatic interpretation.\",\n",
        "      \"result\": \"idiomatic\"\n",
        "    }},\n",
        "    {{\n",
        "      \"target_phrase\": \"ghost town\",\n",
        "      \"idiomatic_meaning\": \"A deserted town or settlement that was once populated but is now abandoned, often evoking a sense of desolation or emptiness.\",\n",
        "      \"literal_meaning\": \"A town inhabited by ghosts or supernatural entities, as in fictional or mythological contexts.\"\n",
        "      \"contextual_considerations\": \"In the sentence, 'Our wanderings had led us perilously close to the walls of the ghost town where restless spirits haunted the streets, eager to absorb the vitality of the living,' the description explicitly mentions 'restless spirits' and their interaction with the living. This strongly suggests a literal interpretation involving supernatural elements.\",\n",
        "      \"verbose_explanation\": \"Here, 'ghost town' refers to a literal place inhabited by ghosts or spirits, as indicated by the detailed imagery of 'restless spirits' and their haunting presence. The context does not suggest the metaphorical use of the term as an abandoned, non-supernatural settlement.\",\n",
        "      \"result\": \"literal\"\n",
        "    }}\n",
        "]}}\n",
        "\n",
        "---\n",
        "\n",
        "You must return a valid JSON object formatted exactly as follows:\n",
        "- Do not use double-quotes inside of JSON values. If quotes are necessary, use single-quotes.\n",
        "- Do not include line breaks inside JSON values.\n",
        "- Strictly follow the schema:\n",
        "\n",
        "Output JSON schema:\n",
        "{{\n",
        "  \"type\": \"object\",\n",
        "  \"properties\": {{\n",
        "    \"data\": {{\n",
        "      \"type\": \"array\",\n",
        "      \"items\": {{\n",
        "        \"type\": \"object\",\n",
        "        \"properties\": {{\n",
        "          \"target_phrase\": {{\"type\": \"string\"}},\n",
        "          \"idiomatic_meaning\": {{\"type\": \"string\"}},\n",
        "          \"literal_meaning\": {{\"type\": \"string\"}},\n",
        "          \"contextual_considerations\": {{\"type\": \"string\"}},\n",
        "          \"verbose_explanation\": {{\"type\": \"string\"}},\n",
        "          \"result\": {{\"type\": \"string\", \"enum\": [\"idiomatic\", \"literal\"]}}\n",
        "        }},\n",
        "        \"required\": [\"target_phrase\", \"idiomatic_meaning\", \"literal_meaning\", \"contextual_considerations\", \"verbose_explanation\", \"result\"]\n",
        "      }}\n",
        "    }}\n",
        "  }},\n",
        "  \"required\": [\"data\"]\n",
        "}}\n",
        "\n",
        "Ensure the response is a **valid** JSON object with escaped quotes.\n",
        "DO NOT include extra commentary.\n",
        "\n",
        "Your turn. These are the samples:\n",
        "{samples}\n",
        "\"\"\""
      ],
      "metadata": {
        "id": "rFKmCTkskj5D"
      },
      "execution_count": null,
      "outputs": []
    },
    {
      "cell_type": "markdown",
      "source": [
        "##### Define prompting function"
      ],
      "metadata": {
        "id": "jWR1lpndqwHk"
      }
    },
    {
      "cell_type": "code",
      "execution_count": null,
      "metadata": {
        "id": "99DYyJWZSV2-"
      },
      "outputs": [],
      "source": [
        "def gpt_sentence_types(compounds, sentences):\n",
        "    \"\"\"\n",
        "    Prompt GPT-4 to get the sentence type, literal or figurative, for a batch of sentences.\n",
        "    \"\"\"\n",
        "    # Create a combined prompt\n",
        "    samples = \"\\n\\n\".join([\n",
        "        f'Target phrase: \"{nc}\"\\nContext sentence: \"{sentence}\"' for nc, sentence in zip(compounds, sentences)\n",
        "    ])\n",
        "\n",
        "    prompt = get_gpt_sentence_types_prompt(samples)\n",
        "\n",
        "    response = client.chat.completions.create(\n",
        "        model=\"gpt-4\",\n",
        "        messages=[\n",
        "            {\"role\": \"system\", \"content\": \"You are a helpful assistant.\"},\n",
        "            {\"role\": \"user\", \"content\": prompt}\n",
        "        ],\n",
        "    )\n",
        "    try:\n",
        "        raw_content = response.choices[0].message.content.strip()\n",
        "        content = json.loads(raw_content)\n",
        "        # print(\"Raw response content:\")\n",
        "        # print(json.dumps(content, indent=4))  # Debug formatted output\n",
        "        return content\n",
        "    except json.JSONDecodeError as e:\n",
        "        print(f\"JSON decoding error: {e}\")\n",
        "        print(\"Response content that caused error:\", raw_content)\n",
        "        return {}"
      ]
    },
    {
      "cell_type": "markdown",
      "source": [
        "##### Get classification responses"
      ],
      "metadata": {
        "id": "nZchmZEGlGsr"
      }
    },
    {
      "cell_type": "code",
      "execution_count": null,
      "metadata": {
        "id": "hgf9fHdboq0N"
      },
      "outputs": [],
      "source": [
        "# Run sentence type classifier in batches\n",
        "def run_classification(df, batch_size):\n",
        "    all_samples = []\n",
        "    for i in range(0, len(df), batch_size):\n",
        "        print(f\"\\nStarting batch: {i}-{i+batch_size-1}\")\n",
        "\n",
        "        batch = df.iloc[i:i + batch_size]\n",
        "        responses = gpt_sentence_types(batch['compound'].tolist(),\n",
        "                                       batch['sentence'].tolist())\n",
        "\n",
        "        if \"data\" in responses:\n",
        "            all_samples.extend(responses[\"data\"])\n",
        "        else:\n",
        "            print(f\"Warning: No 'data' key in response for batch {i}-{i+batch_size-1}\")\n",
        "\n",
        "    return all_samples"
      ]
    },
    {
      "cell_type": "code",
      "source": [
        "for i in range(5):\n",
        "    run_idx = i+1\n",
        "    print(f\"\\n\\nStarting run #{run_idx}\")\n",
        "    classification_responses = run_classification(df, 20)\n",
        "    print(f\"Run #{run_idx} -- Total samples collected: {len(classification_responses)}\")\n",
        "    classification_responses_df = pd.DataFrame(classification_responses)\n",
        "    cls_filename = f\"{dataset}_classification_responses_{run_idx}.tsv\"\n",
        "    classification_responses_df.to_csv(cls_filename, sep='\\t', index=False)\n",
        "    print(f\"Downloading file: {cls_filename}\")\n",
        "    files.download(cls_filename)"
      ],
      "metadata": {
        "collapsed": true,
        "id": "kGpQ7X_PkJF6"
      },
      "execution_count": null,
      "outputs": []
    },
    {
      "cell_type": "markdown",
      "source": [
        "#### classification voting"
      ],
      "metadata": {
        "id": "h1Minc9mDZ0d"
      }
    },
    {
      "cell_type": "code",
      "source": [
        "df_cls_1 = pd.read_csv(f\"{dataset}_classification_responses_1.tsv\", delimiter=\"\\t\")\n",
        "df_cls_2 = pd.read_csv(f\"{dataset}_classification_responses_2.tsv\", delimiter=\"\\t\")\n",
        "df_cls_3 = pd.read_csv(f\"{dataset}_classification_responses_3.tsv\", delimiter=\"\\t\")\n",
        "df_cls_4 = pd.read_csv(f\"{dataset}_classification_responses_4.tsv\", delimiter=\"\\t\")\n",
        "df_cls_5 = pd.read_csv(f\"{dataset}_classification_responses_5.tsv\", delimiter=\"\\t\")"
      ],
      "metadata": {
        "id": "GpwkkX9eDdLH"
      },
      "execution_count": null,
      "outputs": []
    },
    {
      "cell_type": "code",
      "source": [
        "cls_dfs = [df_cls_1, df_cls_2, df_cls_3, df_cls_4, df_cls_5]\n",
        "\n",
        "df_voting = df['compound'].to_frame()\n",
        "\n",
        "for i, df_cls in enumerate(cls_dfs, start=1):\n",
        "    df_cls.rename(columns={'result': f'result_{i}'}, inplace=True)\n",
        "    df_voting = df_voting.merge(df_cls[['target_phrase', f'result_{i}']],\n",
        "              left_on='compound',\n",
        "              right_on='target_phrase',\n",
        "              how='left')\n",
        "    df_voting.drop(columns=['target_phrase'], inplace=True)"
      ],
      "metadata": {
        "id": "yKqDs9dJFL7b"
      },
      "execution_count": null,
      "outputs": []
    },
    {
      "cell_type": "code",
      "source": [
        "def vote(row):\n",
        "    results = row[['result_1', 'result_2', 'result_3', 'result_4', 'result_5']]\n",
        "\n",
        "    valid_results = results[results.isin(['idiomatic', 'literal'])]\n",
        "\n",
        "    counts = valid_results.value_counts()\n",
        "    idiomatic_count = counts.get('idiomatic', 0)\n",
        "    literal_count   = counts.get('literal', 0)\n",
        "\n",
        "    if idiomatic_count > literal_count:\n",
        "        return 'idiomatic'\n",
        "    elif literal_count > idiomatic_count:\n",
        "        return 'literal'\n",
        "    else:\n",
        "        # return 'tie'\n",
        "        return 'literal' # break the tie\n",
        "\n",
        "df_voting['final_result'] = df_voting.apply(vote, axis=1)"
      ],
      "metadata": {
        "id": "d3LO81iBfGbS"
      },
      "execution_count": null,
      "outputs": []
    },
    {
      "cell_type": "code",
      "source": [
        "# add classification result to main df\n",
        "df['sentence_type_pred'] = df_voting['final_result']"
      ],
      "metadata": {
        "id": "U-R5RVcpGIuj"
      },
      "execution_count": null,
      "outputs": []
    },
    {
      "cell_type": "markdown",
      "metadata": {
        "id": "sq34SmwTh5Cs"
      },
      "source": [
        "## Idiom definitions for text input"
      ]
    },
    {
      "cell_type": "markdown",
      "source": [
        "##### Load stored responses\n",
        "For extended dataset only. Instead of generating new definitions (below), here's some we made earlier."
      ],
      "metadata": {
        "id": "O2jw8BOPU4fs"
      }
    },
    {
      "cell_type": "code",
      "source": [
        "def_responses_file_id = \"1fOZu7wA14JtSoKPF9L2g2ODyoXzPqbv9\"\n",
        "def_responses_file_name = \"idiom_definitions.csv\"\n",
        "\n",
        "url = f\"https://drive.google.com/uc?id={def_responses_file_id}\"\n",
        "gdown.download(url, def_responses_file_name, quiet=True)\n",
        "defs_df = pd.read_csv(def_responses_file_name)"
      ],
      "metadata": {
        "id": "IDEKGIhuU6jf"
      },
      "execution_count": null,
      "outputs": []
    },
    {
      "cell_type": "code",
      "source": [
        "# merge defs_df into df on defs_df['target_phrase'] == df['compound']\n",
        "df = df.merge(defs_df[['target_phrase', 'result']],\n",
        "              left_on='compound',\n",
        "              right_on='target_phrase',\n",
        "              how='left').rename(columns={'result': 'idiom_def'}).drop(columns=['target_phrase'])"
      ],
      "metadata": {
        "id": "Z04dT3uaLxrx"
      },
      "execution_count": null,
      "outputs": []
    },
    {
      "cell_type": "code",
      "source": [
        "# fill nan with compound\n",
        "df['text_input'] = df.apply(lambda x: x['idiom_def'] if x['idiom_def'] == x['idiom_def'] else x['compound'], axis=1)"
      ],
      "metadata": {
        "id": "5zqW5POWM-81"
      },
      "execution_count": null,
      "outputs": []
    },
    {
      "cell_type": "markdown",
      "source": [
        "### Define prompts and get definitions\n",
        "use **either** prompt 1 or prompt 2 to generate definitions for idiomatic sentences (if not loading existing definitions)."
      ],
      "metadata": {
        "id": "2PWnEH4inai-"
      }
    },
    {
      "cell_type": "code",
      "source": [
        "def gpt_definitions(compounds, sentence_types, base_prompt):\n",
        "    \"\"\"\n",
        "    Generate definitions for target phrases using GPT-4, in batches.\n",
        "    \"\"\"\n",
        "\n",
        "    input_data = [\n",
        "        nc for nc, sentence_type in zip(compounds, sentence_types)\n",
        "    ]\n",
        "\n",
        "    # Create a combined prompt\n",
        "    examples = \"\\n\".join([\n",
        "        f'The idiom is: \"{nc}\".' for nc in input_data\n",
        "    ])\n",
        "    # print(f\"examples:\\n{examples}\")\n",
        "\n",
        "    prompt = base_prompt + examples\n",
        "\n",
        "    response = client.chat.completions.create(\n",
        "        model=\"gpt-4\",\n",
        "        messages=[\n",
        "            {\"role\": \"system\", \"content\": \"You are a helpful assistant.\"},\n",
        "            {\"role\": \"user\", \"content\": prompt}\n",
        "        ],\n",
        "    )\n",
        "    try:\n",
        "        raw_content = response.choices[0].message.content.strip()\n",
        "        content = json.loads(raw_content)\n",
        "        # print(json.dumps(content, indent=4))  # Debug formatted output\n",
        "        return content\n",
        "    except json.JSONDecodeError as e:\n",
        "        print(f\"JSON decoding error: {e}\")\n",
        "        print(\"Response content that caused error:\", raw_content)\n",
        "        return {}"
      ],
      "metadata": {
        "id": "xD5Wb-cofBwC"
      },
      "execution_count": null,
      "outputs": []
    },
    {
      "cell_type": "markdown",
      "source": [
        "#### prompt 1"
      ],
      "metadata": {
        "id": "c1wqtvKsx50B"
      }
    },
    {
      "cell_type": "code",
      "source": [
        "prompt_exp6_idiomatic = f\"\"\"\n",
        "You are a linguistics expert specializing in idioms. You will be given a set of idioms to process. For each one, do the following steps aloud (in writing):\n",
        "1. Give a verbose explanation of the idiom, including what connotations it carries or undertones it evokes.\n",
        "2. Give a definition of the *literal* meaning of the phrase. For noun phrases representing physical objects, focus on unambiguous visual descriptors.\n",
        "3. Taking into consideration your response for #1 and #2, list three potential definitions, no longer than 20 words each, that capture the **core emotional or situational essence** conveyed by the idiom. Use **simple language that an average high-schooler would understand** and avoid figurative or overly abstract language. Focus on clear, visually interpretable descriptions that are distinct from the literal definition.\n",
        "4. Choose the best definition.\n",
        "\n",
        "---\n",
        "\n",
        "Example outputs:\n",
        "{{\n",
        "  \"data\": [\n",
        "    {{\n",
        "      \"target_phrase\": \"glass ceiling\",\n",
        "      \"explanation\": \"Refers to an invisible barrier that prevents certain groups, often women or minorities, from advancing in their careers or social positions. Evokes frustration, inequality, and hidden obstacles. Frequently used in discussions of systemic discrimination.\",\n",
        "      \"literal_definition\": \"A ceiling made of transparent glass.\",\n",
        "      \"potential_definition_1\": \"A hidden obstacle that blocks people from reaching higher positions.\",\n",
        "      \"potential_definition_2\": \"An unseen barrier that stops progress for qualified individuals.\",\n",
        "      \"potential_definition_3\": \"A quiet limit that keeps certain groups from moving upward.\",\n",
        "      \"result\": \"A hidden obstacle that blocks people from reaching higher positions.\"\n",
        "    }},\n",
        "    {{\n",
        "      \"target_phrase\": \"missing link\",\n",
        "      \"explanation\": \"Suggests a crucial piece of information or evidence needed to bridge a gap in knowledge or understanding. Evokes the sense of an incomplete puzzle, emphasizing the importance of finding what’s absent.\",\n",
        "      \"literal_definition\": \"A link in a chain that is not present, creating a gap.\",\n",
        "      \"potential_definition_1\": \"A key piece that completes an unfinished idea or puzzle.\",\n",
        "      \"potential_definition_2\": \"Something crucial that holds everything together but is absent.\",\n",
        "      \"potential_definition_3\": \"An important connecting factor that is missing or unknown.\",\n",
        "      \"result\": \"A key piece that completes an unfinished idea or puzzle.\"\n",
        "    }},\n",
        "    {{\n",
        "      \"target_phrase\": \"paper tiger\",\n",
        "      \"explanation\": \"Describes someone or something that appears threatening or powerful but is actually weak or ineffective. Connotes empty threats or superficial strength.\",\n",
        "      \"literal_definition\": \"A tiger made of paper, such as origami or a paper figure.\",\n",
        "      \"potential_definition_1\": \"Something that seems strong but has little real power.\",\n",
        "      \"potential_definition_2\": \"A fragile threat that looks more dangerous than it is.\",\n",
        "      \"potential_definition_3\": \"A force that seems scary but collapses under pressure.\",\n",
        "      \"result\": \"Something that seems strong but has little real power.\"\n",
        "    }}\n",
        "    ...\n",
        "  ]\n",
        "}}\n",
        "\n",
        "---\n",
        "\n",
        "You must return a valid JSON object:\n",
        "- Do not use double quotes inside your value strings.\n",
        "- Do not include line breaks inside JSON values.\n",
        "- Strictly follow the schema.\n",
        "\n",
        "Schema:\n",
        "{{\n",
        "  \"type\": \"object\",\n",
        "  \"properties\": {{\n",
        "    \"data\": {{\n",
        "      \"type\": \"array\",\n",
        "      \"items\": {{\n",
        "        \"type\": \"object\",\n",
        "        \"properties\": {{\n",
        "          \"target_phrase\": {{ \"type\": \"string\" }},\n",
        "          \"explanation\": {{ \"type\": \"string\" }},\n",
        "          \"literal_definition\": {{ \"type\": \"string\" }},\n",
        "          \"potential_definition_1\": {{ \"type\": \"string\" }},\n",
        "          \"potential_definition_2\": {{ \"type\": \"string\" }},\n",
        "          \"potential_definition_3\": {{ \"type\": \"string\" }},\n",
        "          \"result\": {{ \"type\": \"string\" }}\n",
        "        }},\n",
        "        \"required\": [\"target_phrase\", \"explanation\", \"potential_definition_1\", \"potential_definition_2\", \"potential_definition_3\", \"result\"]\n",
        "      }}\n",
        "    }}\n",
        "  }},\n",
        "  \"required\": [\"data\"]\n",
        "}}\n",
        "\n",
        "Ensure the response is a valid JSON object with escaped quotes.\n",
        "\n",
        "Here are the samples:\n",
        "\"\"\""
      ],
      "metadata": {
        "id": "sNYzqpEFn1zJ"
      },
      "execution_count": null,
      "outputs": []
    },
    {
      "cell_type": "code",
      "source": [
        "batch_size = 15\n",
        "all_data = []\n",
        "\n",
        "for i in range(0, len(df), batch_size):\n",
        "    print(f\"\\n Starting batch: {i}-{i+batch_size-1}\")\n",
        "    batch = df.iloc[i:i + batch_size]\n",
        "    responses = gpt_definitions(batch['compound'].tolist(),\n",
        "                                batch['sentence_type_pred'].tolist(),\n",
        "                                prompt_exp6_idiomatic)\n",
        "\n",
        "    if \"data\" in responses:\n",
        "        all_data.extend(responses[\"data\"])\n",
        "        print(f\"len(all_data): {len(all_data)}\")\n",
        "    else:\n",
        "        print(f\"Warning: no 'data' in response for batch {i}-{i+batch_size-1}\")\n",
        "\n",
        "df_exp6_defs_idiomatic = pd.DataFrame(all_data)"
      ],
      "metadata": {
        "id": "HxKADFwn9ASD",
        "collapsed": true
      },
      "execution_count": null,
      "outputs": []
    },
    {
      "cell_type": "code",
      "source": [
        "df_exp6_defs_idiomatic.to_csv(f\"{dataset}_exp6_definitions_idiomatic.csv\", index=False)"
      ],
      "metadata": {
        "id": "bCX0MPcSOGeI"
      },
      "execution_count": null,
      "outputs": []
    },
    {
      "cell_type": "code",
      "source": [
        "files.download(f\"{dataset}_exp6_definitions_idiomatic.csv\")"
      ],
      "metadata": {
        "id": "cVJENA8cv8TD"
      },
      "execution_count": null,
      "outputs": []
    },
    {
      "cell_type": "code",
      "source": [
        "# merge defs_df into df on defs_df['target_phrase'] == df['compound']\n",
        "df = df.merge(df_exp6_defs_idiomatic[['target_phrase', 'result']],\n",
        "              left_on='compound',\n",
        "              right_on='target_phrase',\n",
        "              how='left').rename(columns={'result': 'idiom_def'}).drop(columns=['target_phrase'])"
      ],
      "metadata": {
        "id": "Dh3m9CgKxjih"
      },
      "execution_count": null,
      "outputs": []
    },
    {
      "cell_type": "code",
      "source": [
        "df['text_input'] = df.apply(lambda x: x['idiom_def'] if x['sentence_type_pred'] == 'idiomatic' else x['compound'], axis=1)"
      ],
      "metadata": {
        "id": "8IAyEY6Dxjii"
      },
      "execution_count": null,
      "outputs": []
    },
    {
      "cell_type": "markdown",
      "source": [
        "#### prompt 2"
      ],
      "metadata": {
        "id": "TVXzV5YpZJyL"
      }
    },
    {
      "cell_type": "code",
      "source": [
        "prompt_exp7_idiomatic = \"\"\"\"\n",
        "You are a linguistics and visual storytelling expert, with an expertise on differentiating idiomatic from literal language. For each sample idiom below, your task is to create visual and textual representations that align well with the idiom’s figurative meaning for use in matching with images. Follow these steps:\n",
        "\n",
        "1. Identify the phrase: Give a concise definition of the phrase in its idiomatic sense.\n",
        "2. Note the literal usage (briefly): Mention the plain or surface meaning, but clarify that you are focusing on the figurative interpretation for your examples.\n",
        "3. Generate 5 distinct image ideas: For the given idiom, imagine 5 different scenes or situations that visually depict its figurative meaning. Describe each scene in 1-2 sentences, focusing on visual details.\n",
        "4. Generalize the captions: Write a single caption that could apply to all 5 scenes. It should capture the essence of the idiom in a way that is broad enough to fit any of the scenes.\n",
        "5. Refine: Reflect on how well your caption generalizes to all five scenes, then attempt to improve on it.\n",
        "6. Consider which caption is best: Weigh the captions against each other, then pick the one that best fits all 5 scenes.\n",
        "7. Select the best caption: Repeat the caption you selected.\n",
        "\n",
        "---\n",
        "\n",
        "Example outputs:\n",
        "{\n",
        "  \"data\": [\n",
        "    {\n",
        "      \"target_phrase\": \"glass ceiling\",\n",
        "      \"explanation\": \"Refers to an invisible barrier that prevents certain groups (often women or minorities) from advancing to higher levels of power or responsibility. Implies a hidden form of discrimination that is not overtly acknowledged but still limits upward mobility.\",\n",
        "      \"literal_definition\": \"A ceiling made of glass.\",\n",
        "      \"image_ideas\": [\n",
        "        \"A businesswoman standing just below a transparent barrier in a large corporate office, looking up at executives in the floor above.\",\n",
        "        \"A group of female or minority employees reaching a fancy mezzanine level only to find an unseen barrier between them and the boardroom.\",\n",
        "        \"A symbolic representation of cracks forming in a transparent barrier overhead as a woman holds a briefcase, showing determination to break through.\",\n",
        "        \"A silhouette of a person pressed against a clear pane, with a hand raised as though trying to push past it.\",\n",
        "        \"A visually layered office setting, where higher floors are accessible but separated by a nearly invisible division, highlighting the subtlety of the barrier.\"\n",
        "      ],\n",
        "      \"generalized_caption_1\": \"Facing an unseen barrier to advancement.\",\n",
        "      \"generalized_caption_2\": \"Pushing against a hidden boundary in pursuit of progress.\",\n",
        "      \"thinking\": \"Both captions address the concept of a hidden obstruction. The second one, 'Pushing against a hidden boundary in pursuit of progress,' suggests active resistance and forward motion, which suits the idiom’s connotation of striving to break through.\",\n",
        "      \"result\": \"Pushing against a hidden boundary in pursuit of progress.\"\n",
        "    },\n",
        "    {\n",
        "      \"target_phrase\": \"paper tiger\",\n",
        "      \"explanation\": \"Describes someone or something that appears threatening or powerful but is actually weak or ineffectual. Connotes false bravado or an overestimation of strength.\",\n",
        "      \"literal_definition\": \"A tiger made out of paper.\",\n",
        "      \"image_ideas\": [\n",
        "        \"A large, menacing figure looming over a crowd, only to be revealed as hollow or easily torn.\",\n",
        "        \"A roaring tiger image on a billboard that looks scary but is just thin paper peeling at the edges.\",\n",
        "        \"A towering cardboard cutout of a tiger in a political rally, symbolizing empty threats or exaggerated power.\",\n",
        "        \"A fierce-looking trophy made of paper mache, displayed in a spotlight to highlight its fragile nature.\",\n",
        "        \"An intimidating sign with a tiger illustration in front of a building, but the sign is tattered and flapping in the wind, showing its vulnerability.\"\n",
        "      ],\n",
        "      \"generalized_caption_1\": \"A formidable appearance that masks a fragile reality.\",\n",
        "      \"generalized_caption_2\": \"Something that looks strong but lacks real power.\",\n",
        "      \"thinking\": \"The second caption directly addresses the core meaning—'Something that looks strong but lacks real power.' It's concise and precise.\",\n",
        "      \"result\": \"Something that looks strong but lacks real power.\"\n",
        "    },\n",
        "    {\n",
        "      \"target_phrase\": \"missing link\",\n",
        "      \"explanation\": \"Refers to a crucial piece of information or element that helps connect different ideas, theories, or facts. Connotes something vital that completes a puzzle or fills a gap in understanding.\",\n",
        "      \"literal_definition\": \"A link in a chain (like a ring or segment) that is absent.\",\n",
        "      \"image_ideas\": [\n",
        "        \"A detective at a crime board tapping a blank space among photos and clues, indicating a vital piece of evidence that’s not yet found.\",\n",
        "        \"An evolutionary chart with a silhouette in the middle missing, leaving a gap in the progression from ape to human.\",\n",
        "        \"A jigsaw puzzle nearly completed, except for a conspicuously empty spot in the center.\",\n",
        "        \"A timeline pinned on a wall with a significant date missing, highlighting the gap in recorded history.\",\n",
        "        \"A scientific lab setting where a researcher stands before a half-finished hypothesis, gazing at a large question mark on the board.\"\n",
        "      ],\n",
        "      \"generalized_caption_1\": \"A crucial piece that completes the bigger picture.\",\n",
        "      \"generalized_caption_2\": \"The vital connecting factor that brings everything together.\",\n",
        "      \"thinking\": \"Between the two, 'A crucial piece that completes the bigger picture' fits the notion of something vital and absent, capturing the idiomatic essence succinctly.\",\n",
        "      \"result\": \"A crucial piece that completes the bigger picture.\"\n",
        "    }\n",
        "    ...\n",
        "    ...\n",
        "    ...\n",
        "  ]\n",
        "}\n",
        "\n",
        "---\n",
        "\n",
        "You must return a valid JSON object:\n",
        "- Do not use double quotes inside your value strings.\n",
        "- Do not include line breaks inside JSON values.\n",
        "- Strictly follow the schema.\n",
        "\n",
        "Schema:\n",
        "{\n",
        "  \"type\": \"object\",\n",
        "  \"properties\": {\n",
        "    \"data\": {\n",
        "      \"type\": \"array\",\n",
        "      \"items\": {\n",
        "        \"type\": \"object\",\n",
        "        \"properties\": {\n",
        "          \"target_phrase\": { \"type\": \"string\" },\n",
        "          \"explanation\": { \"type\": \"string\" },\n",
        "          \"literal_definition\": { \"type\": \"string\" },\n",
        "          \"image_ideas\": { \"type\": \"array\", \"items\": { \"type\": \"string\" } },\n",
        "          \"generalized_caption_1\": { \"type\": \"string\" },\n",
        "          \"generalized_caption_2\": { \"type\": \"string\" },\n",
        "          \"thinking\": { \"type\": \"string\" },\n",
        "          \"result\": { \"type\": \"string\" }\n",
        "        },\n",
        "        \"required\": [\"target_phrase\", \"image_ideas\", \"generalized_caption_1\", \"generalized_caption_2\", \"thinking\", \"result\"]\n",
        "      }\n",
        "    }\n",
        "  },\n",
        "  \"required\": [\"data\"]\n",
        "}\n",
        "\n",
        "Ensure the response is a valid JSON object with properly escaped quotes.\n",
        "\n",
        "Your turn. Here are the samples:\n",
        "\"\"\"\n"
      ],
      "metadata": {
        "id": "2c41UT_N0sRW"
      },
      "execution_count": null,
      "outputs": []
    },
    {
      "cell_type": "code",
      "source": [
        "batch_size = 8\n",
        "all_data = []\n",
        "\n",
        "for i in range(0, len(df), batch_size):\n",
        "    print(f\"Starting batch {i}-{i+batch_size-1}...\")\n",
        "\n",
        "    batch = df.iloc[i:i + batch_size]\n",
        "    responses = gpt_definitions(batch['compound'].tolist(),\n",
        "                                batch['sentence_type_pred'].tolist(),\n",
        "                                prompt_exp7_idiomatic)\n",
        "\n",
        "    if \"data\" in responses:\n",
        "        all_data.extend(responses[\"data\"])\n",
        "        print(f\"all_data now has length: {len(all_data)}\")\n",
        "    else:\n",
        "        print(f\"Warning: no 'data' in response for batch {i}-{i+batch_size-1}\")\n",
        "\n",
        "df_exp7_defs_idiomatic = pd.DataFrame(all_data)"
      ],
      "metadata": {
        "id": "JYC66S3qgS6o"
      },
      "execution_count": null,
      "outputs": []
    },
    {
      "cell_type": "code",
      "source": [
        "df_exp7_defs_idiomatic.to_csv(f'{dataset}_exp7_definitions_idiomatic.csv', index=False)"
      ],
      "metadata": {
        "id": "CHTeq2uAkR17"
      },
      "execution_count": null,
      "outputs": []
    },
    {
      "cell_type": "code",
      "source": [
        "files.download(f\"{dataset}_exp7_definitions_idiomatic.csv\")"
      ],
      "metadata": {
        "colab": {
          "base_uri": "https://localhost:8080/",
          "height": 17
        },
        "id": "mR4mUjmD_Diw",
        "outputId": "dec379b3-ec8b-4960-a711-78bbe1494a7c"
      },
      "execution_count": null,
      "outputs": [
        {
          "output_type": "display_data",
          "data": {
            "text/plain": [
              "<IPython.core.display.Javascript object>"
            ],
            "application/javascript": [
              "\n",
              "    async function download(id, filename, size) {\n",
              "      if (!google.colab.kernel.accessAllowed) {\n",
              "        return;\n",
              "      }\n",
              "      const div = document.createElement('div');\n",
              "      const label = document.createElement('label');\n",
              "      label.textContent = `Downloading \"${filename}\": `;\n",
              "      div.appendChild(label);\n",
              "      const progress = document.createElement('progress');\n",
              "      progress.max = size;\n",
              "      div.appendChild(progress);\n",
              "      document.body.appendChild(div);\n",
              "\n",
              "      const buffers = [];\n",
              "      let downloaded = 0;\n",
              "\n",
              "      const channel = await google.colab.kernel.comms.open(id);\n",
              "      // Send a message to notify the kernel that we're ready.\n",
              "      channel.send({})\n",
              "\n",
              "      for await (const message of channel.messages) {\n",
              "        // Send a message to notify the kernel that we're ready.\n",
              "        channel.send({})\n",
              "        if (message.buffers) {\n",
              "          for (const buffer of message.buffers) {\n",
              "            buffers.push(buffer);\n",
              "            downloaded += buffer.byteLength;\n",
              "            progress.value = downloaded;\n",
              "          }\n",
              "        }\n",
              "      }\n",
              "      const blob = new Blob(buffers, {type: 'application/binary'});\n",
              "      const a = document.createElement('a');\n",
              "      a.href = window.URL.createObjectURL(blob);\n",
              "      a.download = filename;\n",
              "      div.appendChild(a);\n",
              "      a.click();\n",
              "      div.remove();\n",
              "    }\n",
              "  "
            ]
          },
          "metadata": {}
        },
        {
          "output_type": "display_data",
          "data": {
            "text/plain": [
              "<IPython.core.display.Javascript object>"
            ],
            "application/javascript": [
              "download(\"download_a151cd31-c14f-4824-9baf-c104447fae1b\", \"ext_exp6_definitions_literal.csv\", 8629)"
            ]
          },
          "metadata": {}
        },
        {
          "output_type": "display_data",
          "data": {
            "text/plain": [
              "<IPython.core.display.Javascript object>"
            ],
            "application/javascript": [
              "\n",
              "    async function download(id, filename, size) {\n",
              "      if (!google.colab.kernel.accessAllowed) {\n",
              "        return;\n",
              "      }\n",
              "      const div = document.createElement('div');\n",
              "      const label = document.createElement('label');\n",
              "      label.textContent = `Downloading \"${filename}\": `;\n",
              "      div.appendChild(label);\n",
              "      const progress = document.createElement('progress');\n",
              "      progress.max = size;\n",
              "      div.appendChild(progress);\n",
              "      document.body.appendChild(div);\n",
              "\n",
              "      const buffers = [];\n",
              "      let downloaded = 0;\n",
              "\n",
              "      const channel = await google.colab.kernel.comms.open(id);\n",
              "      // Send a message to notify the kernel that we're ready.\n",
              "      channel.send({})\n",
              "\n",
              "      for await (const message of channel.messages) {\n",
              "        // Send a message to notify the kernel that we're ready.\n",
              "        channel.send({})\n",
              "        if (message.buffers) {\n",
              "          for (const buffer of message.buffers) {\n",
              "            buffers.push(buffer);\n",
              "            downloaded += buffer.byteLength;\n",
              "            progress.value = downloaded;\n",
              "          }\n",
              "        }\n",
              "      }\n",
              "      const blob = new Blob(buffers, {type: 'application/binary'});\n",
              "      const a = document.createElement('a');\n",
              "      a.href = window.URL.createObjectURL(blob);\n",
              "      a.download = filename;\n",
              "      div.appendChild(a);\n",
              "      a.click();\n",
              "      div.remove();\n",
              "    }\n",
              "  "
            ]
          },
          "metadata": {}
        },
        {
          "output_type": "display_data",
          "data": {
            "text/plain": [
              "<IPython.core.display.Javascript object>"
            ],
            "application/javascript": [
              "download(\"download_736a4040-285e-4636-90a1-4ad0445740d8\", \"ext_exp6_definitions_idiomatic.csv\", 8918)"
            ]
          },
          "metadata": {}
        },
        {
          "output_type": "display_data",
          "data": {
            "text/plain": [
              "<IPython.core.display.Javascript object>"
            ],
            "application/javascript": [
              "\n",
              "    async function download(id, filename, size) {\n",
              "      if (!google.colab.kernel.accessAllowed) {\n",
              "        return;\n",
              "      }\n",
              "      const div = document.createElement('div');\n",
              "      const label = document.createElement('label');\n",
              "      label.textContent = `Downloading \"${filename}\": `;\n",
              "      div.appendChild(label);\n",
              "      const progress = document.createElement('progress');\n",
              "      progress.max = size;\n",
              "      div.appendChild(progress);\n",
              "      document.body.appendChild(div);\n",
              "\n",
              "      const buffers = [];\n",
              "      let downloaded = 0;\n",
              "\n",
              "      const channel = await google.colab.kernel.comms.open(id);\n",
              "      // Send a message to notify the kernel that we're ready.\n",
              "      channel.send({})\n",
              "\n",
              "      for await (const message of channel.messages) {\n",
              "        // Send a message to notify the kernel that we're ready.\n",
              "        channel.send({})\n",
              "        if (message.buffers) {\n",
              "          for (const buffer of message.buffers) {\n",
              "            buffers.push(buffer);\n",
              "            downloaded += buffer.byteLength;\n",
              "            progress.value = downloaded;\n",
              "          }\n",
              "        }\n",
              "      }\n",
              "      const blob = new Blob(buffers, {type: 'application/binary'});\n",
              "      const a = document.createElement('a');\n",
              "      a.href = window.URL.createObjectURL(blob);\n",
              "      a.download = filename;\n",
              "      div.appendChild(a);\n",
              "      a.click();\n",
              "      div.remove();\n",
              "    }\n",
              "  "
            ]
          },
          "metadata": {}
        },
        {
          "output_type": "display_data",
          "data": {
            "text/plain": [
              "<IPython.core.display.Javascript object>"
            ],
            "application/javascript": [
              "download(\"download_a18426cc-95ba-44f7-aa87-1c57a53ba814\", \"ext_exp7_definitions_literal.csv\", 8840)"
            ]
          },
          "metadata": {}
        },
        {
          "output_type": "display_data",
          "data": {
            "text/plain": [
              "<IPython.core.display.Javascript object>"
            ],
            "application/javascript": [
              "\n",
              "    async function download(id, filename, size) {\n",
              "      if (!google.colab.kernel.accessAllowed) {\n",
              "        return;\n",
              "      }\n",
              "      const div = document.createElement('div');\n",
              "      const label = document.createElement('label');\n",
              "      label.textContent = `Downloading \"${filename}\": `;\n",
              "      div.appendChild(label);\n",
              "      const progress = document.createElement('progress');\n",
              "      progress.max = size;\n",
              "      div.appendChild(progress);\n",
              "      document.body.appendChild(div);\n",
              "\n",
              "      const buffers = [];\n",
              "      let downloaded = 0;\n",
              "\n",
              "      const channel = await google.colab.kernel.comms.open(id);\n",
              "      // Send a message to notify the kernel that we're ready.\n",
              "      channel.send({})\n",
              "\n",
              "      for await (const message of channel.messages) {\n",
              "        // Send a message to notify the kernel that we're ready.\n",
              "        channel.send({})\n",
              "        if (message.buffers) {\n",
              "          for (const buffer of message.buffers) {\n",
              "            buffers.push(buffer);\n",
              "            downloaded += buffer.byteLength;\n",
              "            progress.value = downloaded;\n",
              "          }\n",
              "        }\n",
              "      }\n",
              "      const blob = new Blob(buffers, {type: 'application/binary'});\n",
              "      const a = document.createElement('a');\n",
              "      a.href = window.URL.createObjectURL(blob);\n",
              "      a.download = filename;\n",
              "      div.appendChild(a);\n",
              "      a.click();\n",
              "      div.remove();\n",
              "    }\n",
              "  "
            ]
          },
          "metadata": {}
        },
        {
          "output_type": "display_data",
          "data": {
            "text/plain": [
              "<IPython.core.display.Javascript object>"
            ],
            "application/javascript": [
              "download(\"download_baf29249-a4a3-4632-ae63-3639e5be3514\", \"ext_exp7_definitions_idiomatic.csv\", 8509)"
            ]
          },
          "metadata": {}
        }
      ]
    },
    {
      "cell_type": "code",
      "source": [
        "# merge defs_df into df on defs_df['target_phrase'] == df['compound']\n",
        "df = df.merge(df_exp7_defs_idiomatic[['target_phrase', 'result']],\n",
        "              left_on='compound',\n",
        "              right_on='target_phrase',\n",
        "              how='left').rename(columns={'result': 'idiom_def'}).drop(columns=['target_phrase'])"
      ],
      "metadata": {
        "id": "0ciheuCGyaLC"
      },
      "execution_count": null,
      "outputs": []
    },
    {
      "cell_type": "code",
      "source": [
        "df['text_input'] = df.apply(lambda x: x['idiom_def'] if x['sentence_type_pred'] == 'idiomatic' else x['compound'], axis=1)"
      ],
      "metadata": {
        "id": "nCW7cnzUyaLC"
      },
      "execution_count": null,
      "outputs": []
    },
    {
      "cell_type": "markdown",
      "source": [
        "### Run prompts on GPT"
      ],
      "metadata": {
        "id": "KyEdNn6Znddp"
      }
    },
    {
      "cell_type": "markdown",
      "source": [
        "### handle GPT responses"
      ],
      "metadata": {
        "id": "iszmXl5kqTxr"
      }
    },
    {
      "cell_type": "code",
      "execution_count": null,
      "metadata": {
        "id": "HBk9arxN2X9n"
      },
      "outputs": [],
      "source": [
        "# Merge all batches into a single DataFrame\n",
        "if all_responses:\n",
        "    response_df = pd.concat(all_responses, ignore_index=True)\n",
        "    response_df.rename(columns={\"result\": \"idiom_def\"}, inplace=True)\n",
        "\n",
        "    # Merge 'text_input' and additional definition columns back into main DataFrame\n",
        "    df = df.merge(response_df[['target_phrase', 'idiom_def', 'generalized_caption_1', 'generalized_caption_2', 'generalized_caption_3']],\n",
        "                  left_on='compound',\n",
        "                  right_on='target_phrase',\n",
        "                  how='left')\n",
        "\n",
        "    # Drop 'target_phrase' since it's redundant after merging\n",
        "    df.drop(columns=['target_phrase'], inplace=True)"
      ]
    },
    {
      "cell_type": "markdown",
      "metadata": {
        "id": "xHFQSJlVGCQE"
      },
      "source": [
        "## Multimodal model setup"
      ]
    },
    {
      "cell_type": "code",
      "execution_count": null,
      "metadata": {
        "id": "2IDOr4CkJ2KN"
      },
      "outputs": [],
      "source": [
        "import torch\n",
        "from PIL import Image\n",
        "from ast import literal_eval\n",
        "\n",
        "device = \"cuda\" if torch.cuda.is_available() else \"cpu\""
      ]
    },
    {
      "cell_type": "markdown",
      "source": [
        "#### OpenCLIP"
      ],
      "metadata": {
        "id": "3C-URQw2uOhh"
      }
    },
    {
      "cell_type": "code",
      "source": [
        "!pip install open_clip_torch\n",
        "import open_clip"
      ],
      "metadata": {
        "colab": {
          "base_uri": "https://localhost:8080/"
        },
        "id": "6EDdK_ivzaQ2",
        "outputId": "dd1d435c-f4a5-4905-879b-750689b437d3"
      },
      "execution_count": null,
      "outputs": [
        {
          "output_type": "stream",
          "name": "stdout",
          "text": [
            "Collecting open_clip_torch\n",
            "  Downloading open_clip_torch-2.32.0-py3-none-any.whl.metadata (31 kB)\n",
            "Requirement already satisfied: torch>=1.9.0 in /usr/local/lib/python3.11/dist-packages (from open_clip_torch) (2.6.0+cu124)\n",
            "Requirement already satisfied: torchvision in /usr/local/lib/python3.11/dist-packages (from open_clip_torch) (0.21.0+cu124)\n",
            "Requirement already satisfied: regex in /usr/local/lib/python3.11/dist-packages (from open_clip_torch) (2024.11.6)\n",
            "Collecting ftfy (from open_clip_torch)\n",
            "  Downloading ftfy-6.3.1-py3-none-any.whl.metadata (7.3 kB)\n",
            "Requirement already satisfied: tqdm in /usr/local/lib/python3.11/dist-packages (from open_clip_torch) (4.67.1)\n",
            "Requirement already satisfied: huggingface-hub in /usr/local/lib/python3.11/dist-packages (from open_clip_torch) (0.30.2)\n",
            "Requirement already satisfied: safetensors in /usr/local/lib/python3.11/dist-packages (from open_clip_torch) (0.5.3)\n",
            "Requirement already satisfied: timm in /usr/local/lib/python3.11/dist-packages (from open_clip_torch) (1.0.15)\n",
            "Requirement already satisfied: filelock in /usr/local/lib/python3.11/dist-packages (from torch>=1.9.0->open_clip_torch) (3.18.0)\n",
            "Requirement already satisfied: typing-extensions>=4.10.0 in /usr/local/lib/python3.11/dist-packages (from torch>=1.9.0->open_clip_torch) (4.13.2)\n",
            "Requirement already satisfied: networkx in /usr/local/lib/python3.11/dist-packages (from torch>=1.9.0->open_clip_torch) (3.4.2)\n",
            "Requirement already satisfied: jinja2 in /usr/local/lib/python3.11/dist-packages (from torch>=1.9.0->open_clip_torch) (3.1.6)\n",
            "Requirement already satisfied: fsspec in /usr/local/lib/python3.11/dist-packages (from torch>=1.9.0->open_clip_torch) (2025.3.2)\n",
            "Collecting nvidia-cuda-nvrtc-cu12==12.4.127 (from torch>=1.9.0->open_clip_torch)\n",
            "  Downloading nvidia_cuda_nvrtc_cu12-12.4.127-py3-none-manylinux2014_x86_64.whl.metadata (1.5 kB)\n",
            "Collecting nvidia-cuda-runtime-cu12==12.4.127 (from torch>=1.9.0->open_clip_torch)\n",
            "  Downloading nvidia_cuda_runtime_cu12-12.4.127-py3-none-manylinux2014_x86_64.whl.metadata (1.5 kB)\n",
            "Collecting nvidia-cuda-cupti-cu12==12.4.127 (from torch>=1.9.0->open_clip_torch)\n",
            "  Downloading nvidia_cuda_cupti_cu12-12.4.127-py3-none-manylinux2014_x86_64.whl.metadata (1.6 kB)\n",
            "Collecting nvidia-cudnn-cu12==9.1.0.70 (from torch>=1.9.0->open_clip_torch)\n",
            "  Downloading nvidia_cudnn_cu12-9.1.0.70-py3-none-manylinux2014_x86_64.whl.metadata (1.6 kB)\n",
            "Collecting nvidia-cublas-cu12==12.4.5.8 (from torch>=1.9.0->open_clip_torch)\n",
            "  Downloading nvidia_cublas_cu12-12.4.5.8-py3-none-manylinux2014_x86_64.whl.metadata (1.5 kB)\n",
            "Collecting nvidia-cufft-cu12==11.2.1.3 (from torch>=1.9.0->open_clip_torch)\n",
            "  Downloading nvidia_cufft_cu12-11.2.1.3-py3-none-manylinux2014_x86_64.whl.metadata (1.5 kB)\n",
            "Collecting nvidia-curand-cu12==10.3.5.147 (from torch>=1.9.0->open_clip_torch)\n",
            "  Downloading nvidia_curand_cu12-10.3.5.147-py3-none-manylinux2014_x86_64.whl.metadata (1.5 kB)\n",
            "Collecting nvidia-cusolver-cu12==11.6.1.9 (from torch>=1.9.0->open_clip_torch)\n",
            "  Downloading nvidia_cusolver_cu12-11.6.1.9-py3-none-manylinux2014_x86_64.whl.metadata (1.6 kB)\n",
            "Collecting nvidia-cusparse-cu12==12.3.1.170 (from torch>=1.9.0->open_clip_torch)\n",
            "  Downloading nvidia_cusparse_cu12-12.3.1.170-py3-none-manylinux2014_x86_64.whl.metadata (1.6 kB)\n",
            "Requirement already satisfied: nvidia-cusparselt-cu12==0.6.2 in /usr/local/lib/python3.11/dist-packages (from torch>=1.9.0->open_clip_torch) (0.6.2)\n",
            "Requirement already satisfied: nvidia-nccl-cu12==2.21.5 in /usr/local/lib/python3.11/dist-packages (from torch>=1.9.0->open_clip_torch) (2.21.5)\n",
            "Requirement already satisfied: nvidia-nvtx-cu12==12.4.127 in /usr/local/lib/python3.11/dist-packages (from torch>=1.9.0->open_clip_torch) (12.4.127)\n",
            "Collecting nvidia-nvjitlink-cu12==12.4.127 (from torch>=1.9.0->open_clip_torch)\n",
            "  Downloading nvidia_nvjitlink_cu12-12.4.127-py3-none-manylinux2014_x86_64.whl.metadata (1.5 kB)\n",
            "Requirement already satisfied: triton==3.2.0 in /usr/local/lib/python3.11/dist-packages (from torch>=1.9.0->open_clip_torch) (3.2.0)\n",
            "Requirement already satisfied: sympy==1.13.1 in /usr/local/lib/python3.11/dist-packages (from torch>=1.9.0->open_clip_torch) (1.13.1)\n",
            "Requirement already satisfied: mpmath<1.4,>=1.1.0 in /usr/local/lib/python3.11/dist-packages (from sympy==1.13.1->torch>=1.9.0->open_clip_torch) (1.3.0)\n",
            "Requirement already satisfied: wcwidth in /usr/local/lib/python3.11/dist-packages (from ftfy->open_clip_torch) (0.2.13)\n",
            "Requirement already satisfied: packaging>=20.9 in /usr/local/lib/python3.11/dist-packages (from huggingface-hub->open_clip_torch) (24.2)\n",
            "Requirement already satisfied: pyyaml>=5.1 in /usr/local/lib/python3.11/dist-packages (from huggingface-hub->open_clip_torch) (6.0.2)\n",
            "Requirement already satisfied: requests in /usr/local/lib/python3.11/dist-packages (from huggingface-hub->open_clip_torch) (2.32.3)\n",
            "Requirement already satisfied: numpy in /usr/local/lib/python3.11/dist-packages (from torchvision->open_clip_torch) (2.0.2)\n",
            "Requirement already satisfied: pillow!=8.3.*,>=5.3.0 in /usr/local/lib/python3.11/dist-packages (from torchvision->open_clip_torch) (11.1.0)\n",
            "Requirement already satisfied: MarkupSafe>=2.0 in /usr/local/lib/python3.11/dist-packages (from jinja2->torch>=1.9.0->open_clip_torch) (3.0.2)\n",
            "Requirement already satisfied: charset-normalizer<4,>=2 in /usr/local/lib/python3.11/dist-packages (from requests->huggingface-hub->open_clip_torch) (3.4.1)\n",
            "Requirement already satisfied: idna<4,>=2.5 in /usr/local/lib/python3.11/dist-packages (from requests->huggingface-hub->open_clip_torch) (3.10)\n",
            "Requirement already satisfied: urllib3<3,>=1.21.1 in /usr/local/lib/python3.11/dist-packages (from requests->huggingface-hub->open_clip_torch) (2.3.0)\n",
            "Requirement already satisfied: certifi>=2017.4.17 in /usr/local/lib/python3.11/dist-packages (from requests->huggingface-hub->open_clip_torch) (2025.1.31)\n",
            "Downloading open_clip_torch-2.32.0-py3-none-any.whl (1.5 MB)\n",
            "\u001b[2K   \u001b[90m━━━━━━━━━━━━━━━━━━━━━━━━━━━━━━━━━━━━━━━━\u001b[0m \u001b[32m1.5/1.5 MB\u001b[0m \u001b[31m20.3 MB/s\u001b[0m eta \u001b[36m0:00:00\u001b[0m\n",
            "\u001b[?25hDownloading nvidia_cublas_cu12-12.4.5.8-py3-none-manylinux2014_x86_64.whl (363.4 MB)\n",
            "\u001b[2K   \u001b[90m━━━━━━━━━━━━━━━━━━━━━━━━━━━━━━━━━━━━━━━━\u001b[0m \u001b[32m363.4/363.4 MB\u001b[0m \u001b[31m3.7 MB/s\u001b[0m eta \u001b[36m0:00:00\u001b[0m\n",
            "\u001b[?25hDownloading nvidia_cuda_cupti_cu12-12.4.127-py3-none-manylinux2014_x86_64.whl (13.8 MB)\n",
            "\u001b[2K   \u001b[90m━━━━━━━━━━━━━━━━━━━━━━━━━━━━━━━━━━━━━━━━\u001b[0m \u001b[32m13.8/13.8 MB\u001b[0m \u001b[31m59.1 MB/s\u001b[0m eta \u001b[36m0:00:00\u001b[0m\n",
            "\u001b[?25hDownloading nvidia_cuda_nvrtc_cu12-12.4.127-py3-none-manylinux2014_x86_64.whl (24.6 MB)\n",
            "\u001b[2K   \u001b[90m━━━━━━━━━━━━━━━━━━━━━━━━━━━━━━━━━━━━━━━━\u001b[0m \u001b[32m24.6/24.6 MB\u001b[0m \u001b[31m33.9 MB/s\u001b[0m eta \u001b[36m0:00:00\u001b[0m\n",
            "\u001b[?25hDownloading nvidia_cuda_runtime_cu12-12.4.127-py3-none-manylinux2014_x86_64.whl (883 kB)\n",
            "\u001b[2K   \u001b[90m━━━━━━━━━━━━━━━━━━━━━━━━━━━━━━━━━━━━━━━━\u001b[0m \u001b[32m883.7/883.7 kB\u001b[0m \u001b[31m31.7 MB/s\u001b[0m eta \u001b[36m0:00:00\u001b[0m\n",
            "\u001b[?25hDownloading nvidia_cudnn_cu12-9.1.0.70-py3-none-manylinux2014_x86_64.whl (664.8 MB)\n",
            "\u001b[2K   \u001b[90m━━━━━━━━━━━━━━━━━━━━━━━━━━━━━━━━━━━━━━━━\u001b[0m \u001b[32m664.8/664.8 MB\u001b[0m \u001b[31m1.2 MB/s\u001b[0m eta \u001b[36m0:00:00\u001b[0m\n",
            "\u001b[?25h\u001b[33mWARNING: Retrying (Retry(total=4, connect=None, read=None, redirect=None, status=None)) after connection broken by 'ProtocolError('Connection aborted.', RemoteDisconnected('Remote end closed connection without response'))': /packages/27/94/3266821f65b92b3138631e9c8e7fe1fb513804ac934485a8d05776e1dd43/nvidia_cufft_cu12-11.2.1.3-py3-none-manylinux2014_x86_64.whl\u001b[0m\u001b[33m\n",
            "\u001b[0mDownloading nvidia_cufft_cu12-11.2.1.3-py3-none-manylinux2014_x86_64.whl (211.5 MB)\n",
            "\u001b[2K   \u001b[90m━━━━━━━━━━━━━━━━━━━━━━━━━━━━━━━━━━━━━━━━\u001b[0m \u001b[32m211.5/211.5 MB\u001b[0m \u001b[31m6.1 MB/s\u001b[0m eta \u001b[36m0:00:00\u001b[0m\n",
            "\u001b[?25hDownloading nvidia_curand_cu12-10.3.5.147-py3-none-manylinux2014_x86_64.whl (56.3 MB)\n",
            "\u001b[2K   \u001b[90m━━━━━━━━━━━━━━━━━━━━━━━━━━━━━━━━━━━━━━━━\u001b[0m \u001b[32m56.3/56.3 MB\u001b[0m \u001b[31m14.5 MB/s\u001b[0m eta \u001b[36m0:00:00\u001b[0m\n",
            "\u001b[?25hDownloading nvidia_cusolver_cu12-11.6.1.9-py3-none-manylinux2014_x86_64.whl (127.9 MB)\n",
            "\u001b[2K   \u001b[90m━━━━━━━━━━━━━━━━━━━━━━━━━━━━━━━━━━━━━━━━\u001b[0m \u001b[32m127.9/127.9 MB\u001b[0m \u001b[31m6.9 MB/s\u001b[0m eta \u001b[36m0:00:00\u001b[0m\n",
            "\u001b[?25hDownloading nvidia_cusparse_cu12-12.3.1.170-py3-none-manylinux2014_x86_64.whl (207.5 MB)\n",
            "\u001b[2K   \u001b[90m━━━━━━━━━━━━━━━━━━━━━━━━━━━━━━━━━━━━━━━━\u001b[0m \u001b[32m207.5/207.5 MB\u001b[0m \u001b[31m6.6 MB/s\u001b[0m eta \u001b[36m0:00:00\u001b[0m\n",
            "\u001b[?25hDownloading nvidia_nvjitlink_cu12-12.4.127-py3-none-manylinux2014_x86_64.whl (21.1 MB)\n",
            "\u001b[2K   \u001b[90m━━━━━━━━━━━━━━━━━━━━━━━━━━━━━━━━━━━━━━━━\u001b[0m \u001b[32m21.1/21.1 MB\u001b[0m \u001b[31m62.2 MB/s\u001b[0m eta \u001b[36m0:00:00\u001b[0m\n",
            "\u001b[?25hDownloading ftfy-6.3.1-py3-none-any.whl (44 kB)\n",
            "\u001b[2K   \u001b[90m━━━━━━━━━━━━━━━━━━━━━━━━━━━━━━━━━━━━━━━━\u001b[0m \u001b[32m44.8/44.8 kB\u001b[0m \u001b[31m2.5 MB/s\u001b[0m eta \u001b[36m0:00:00\u001b[0m\n",
            "\u001b[?25hInstalling collected packages: nvidia-nvjitlink-cu12, nvidia-curand-cu12, nvidia-cufft-cu12, nvidia-cuda-runtime-cu12, nvidia-cuda-nvrtc-cu12, nvidia-cuda-cupti-cu12, nvidia-cublas-cu12, ftfy, nvidia-cusparse-cu12, nvidia-cudnn-cu12, nvidia-cusolver-cu12, open_clip_torch\n",
            "  Attempting uninstall: nvidia-nvjitlink-cu12\n",
            "    Found existing installation: nvidia-nvjitlink-cu12 12.5.82\n",
            "    Uninstalling nvidia-nvjitlink-cu12-12.5.82:\n",
            "      Successfully uninstalled nvidia-nvjitlink-cu12-12.5.82\n",
            "  Attempting uninstall: nvidia-curand-cu12\n",
            "    Found existing installation: nvidia-curand-cu12 10.3.6.82\n",
            "    Uninstalling nvidia-curand-cu12-10.3.6.82:\n",
            "      Successfully uninstalled nvidia-curand-cu12-10.3.6.82\n",
            "  Attempting uninstall: nvidia-cufft-cu12\n",
            "    Found existing installation: nvidia-cufft-cu12 11.2.3.61\n",
            "    Uninstalling nvidia-cufft-cu12-11.2.3.61:\n",
            "      Successfully uninstalled nvidia-cufft-cu12-11.2.3.61\n",
            "  Attempting uninstall: nvidia-cuda-runtime-cu12\n",
            "    Found existing installation: nvidia-cuda-runtime-cu12 12.5.82\n",
            "    Uninstalling nvidia-cuda-runtime-cu12-12.5.82:\n",
            "      Successfully uninstalled nvidia-cuda-runtime-cu12-12.5.82\n",
            "  Attempting uninstall: nvidia-cuda-nvrtc-cu12\n",
            "    Found existing installation: nvidia-cuda-nvrtc-cu12 12.5.82\n",
            "    Uninstalling nvidia-cuda-nvrtc-cu12-12.5.82:\n",
            "      Successfully uninstalled nvidia-cuda-nvrtc-cu12-12.5.82\n",
            "  Attempting uninstall: nvidia-cuda-cupti-cu12\n",
            "    Found existing installation: nvidia-cuda-cupti-cu12 12.5.82\n",
            "    Uninstalling nvidia-cuda-cupti-cu12-12.5.82:\n",
            "      Successfully uninstalled nvidia-cuda-cupti-cu12-12.5.82\n",
            "  Attempting uninstall: nvidia-cublas-cu12\n",
            "    Found existing installation: nvidia-cublas-cu12 12.5.3.2\n",
            "    Uninstalling nvidia-cublas-cu12-12.5.3.2:\n",
            "      Successfully uninstalled nvidia-cublas-cu12-12.5.3.2\n",
            "  Attempting uninstall: nvidia-cusparse-cu12\n",
            "    Found existing installation: nvidia-cusparse-cu12 12.5.1.3\n",
            "    Uninstalling nvidia-cusparse-cu12-12.5.1.3:\n",
            "      Successfully uninstalled nvidia-cusparse-cu12-12.5.1.3\n",
            "  Attempting uninstall: nvidia-cudnn-cu12\n",
            "    Found existing installation: nvidia-cudnn-cu12 9.3.0.75\n",
            "    Uninstalling nvidia-cudnn-cu12-9.3.0.75:\n",
            "      Successfully uninstalled nvidia-cudnn-cu12-9.3.0.75\n",
            "  Attempting uninstall: nvidia-cusolver-cu12\n",
            "    Found existing installation: nvidia-cusolver-cu12 11.6.3.83\n",
            "    Uninstalling nvidia-cusolver-cu12-11.6.3.83:\n",
            "      Successfully uninstalled nvidia-cusolver-cu12-11.6.3.83\n",
            "Successfully installed ftfy-6.3.1 nvidia-cublas-cu12-12.4.5.8 nvidia-cuda-cupti-cu12-12.4.127 nvidia-cuda-nvrtc-cu12-12.4.127 nvidia-cuda-runtime-cu12-12.4.127 nvidia-cudnn-cu12-9.1.0.70 nvidia-cufft-cu12-11.2.1.3 nvidia-curand-cu12-10.3.5.147 nvidia-cusolver-cu12-11.6.1.9 nvidia-cusparse-cu12-12.3.1.170 nvidia-nvjitlink-cu12-12.4.127 open_clip_torch-2.32.0\n"
          ]
        }
      ]
    },
    {
      "cell_type": "code",
      "execution_count": null,
      "metadata": {
        "collapsed": true,
        "id": "xx4nxTbUFvvN",
        "colab": {
          "base_uri": "https://localhost:8080/",
          "referenced_widgets": [
            "0b0757905aa049bcab3da1e8b68a0b96",
            "51e08b6d86a64cd2920f7e648089fe1a",
            "c58fad79be22478eb70b29d444fdb1ce",
            "20f98a6628a74221891e1dcd1e73ddb5",
            "adbd4d3679e04e6eba94222fabce038f",
            "2935cb16388e4d4eb92a376eb6e36691",
            "d5d4b9bb2faf4b3c97923e7a2436c029",
            "ebffe34b769a4355842906fc1eb2560c",
            "663a586f2e12438192aff53b5bdd6a1d",
            "62ef13497d534da49e43b04bc13ae767",
            "5c35f43160e74d2993e90ac66257a4e1"
          ]
        },
        "outputId": "fdf27e2f-b619-4cb6-ff0e-a2c0d3742595"
      },
      "outputs": [
        {
          "output_type": "stream",
          "name": "stderr",
          "text": [
            "/usr/local/lib/python3.11/dist-packages/huggingface_hub/utils/_auth.py:94: UserWarning: \n",
            "The secret `HF_TOKEN` does not exist in your Colab secrets.\n",
            "To authenticate with the Hugging Face Hub, create a token in your settings tab (https://huggingface.co/settings/tokens), set it as secret in your Google Colab and restart your session.\n",
            "You will be able to reuse this secret in all of your notebooks.\n",
            "Please note that authentication is recommended but still optional to access public models or datasets.\n",
            "  warnings.warn(\n"
          ]
        },
        {
          "output_type": "display_data",
          "data": {
            "text/plain": [
              "open_clip_model.safetensors:   0%|          | 0.00/605M [00:00<?, ?B/s]"
            ],
            "application/vnd.jupyter.widget-view+json": {
              "version_major": 2,
              "version_minor": 0,
              "model_id": "0b0757905aa049bcab3da1e8b68a0b96"
            }
          },
          "metadata": {}
        },
        {
          "output_type": "execute_result",
          "data": {
            "text/plain": [
              "CLIP(\n",
              "  (visual): VisionTransformer(\n",
              "    (conv1): Conv2d(3, 768, kernel_size=(32, 32), stride=(32, 32), bias=False)\n",
              "    (patch_dropout): Identity()\n",
              "    (ln_pre): LayerNorm((768,), eps=1e-05, elementwise_affine=True)\n",
              "    (transformer): Transformer(\n",
              "      (resblocks): ModuleList(\n",
              "        (0-11): 12 x ResidualAttentionBlock(\n",
              "          (ln_1): LayerNorm((768,), eps=1e-05, elementwise_affine=True)\n",
              "          (attn): MultiheadAttention(\n",
              "            (out_proj): NonDynamicallyQuantizableLinear(in_features=768, out_features=768, bias=True)\n",
              "          )\n",
              "          (ls_1): Identity()\n",
              "          (ln_2): LayerNorm((768,), eps=1e-05, elementwise_affine=True)\n",
              "          (mlp): Sequential(\n",
              "            (c_fc): Linear(in_features=768, out_features=3072, bias=True)\n",
              "            (gelu): GELU(approximate='none')\n",
              "            (c_proj): Linear(in_features=3072, out_features=768, bias=True)\n",
              "          )\n",
              "          (ls_2): Identity()\n",
              "        )\n",
              "      )\n",
              "    )\n",
              "    (ln_post): LayerNorm((768,), eps=1e-05, elementwise_affine=True)\n",
              "  )\n",
              "  (transformer): Transformer(\n",
              "    (resblocks): ModuleList(\n",
              "      (0-11): 12 x ResidualAttentionBlock(\n",
              "        (ln_1): LayerNorm((512,), eps=1e-05, elementwise_affine=True)\n",
              "        (attn): MultiheadAttention(\n",
              "          (out_proj): NonDynamicallyQuantizableLinear(in_features=512, out_features=512, bias=True)\n",
              "        )\n",
              "        (ls_1): Identity()\n",
              "        (ln_2): LayerNorm((512,), eps=1e-05, elementwise_affine=True)\n",
              "        (mlp): Sequential(\n",
              "          (c_fc): Linear(in_features=512, out_features=2048, bias=True)\n",
              "          (gelu): GELU(approximate='none')\n",
              "          (c_proj): Linear(in_features=2048, out_features=512, bias=True)\n",
              "        )\n",
              "        (ls_2): Identity()\n",
              "      )\n",
              "    )\n",
              "  )\n",
              "  (token_embedding): Embedding(49408, 512)\n",
              "  (ln_final): LayerNorm((512,), eps=1e-05, elementwise_affine=True)\n",
              ")"
            ]
          },
          "metadata": {},
          "execution_count": 52
        }
      ],
      "source": [
        "# define model config\n",
        "openclip_model_version = \"ViT-B-32\"\n",
        "model_openclip, _, preprocess_openclip = open_clip.create_model_and_transforms(openclip_model_version, pretrained='laion2b_s34b_b79k')\n",
        "model_openclip.to(device)\n",
        "open_clip_tokenizer = open_clip.get_tokenizer(openclip_model_version)\n",
        "model_openclip.eval()  # model in train mode by default, impacts some models with BatchNorm or stochastic depth active"
      ]
    },
    {
      "cell_type": "code",
      "execution_count": null,
      "metadata": {
        "id": "mS8JKUsuFdp-"
      },
      "outputs": [],
      "source": [
        "def openclip_image_ranking(model, image_processor, tokenizer, image_paths, sentence):\n",
        "    image_inputs = torch.stack([preprocess_openclip(Image.open(ipath)) for ipath in image_paths]).to(device)\n",
        "    text_input = tokenizer([sentence]).to(device)\n",
        "\n",
        "    with torch.no_grad():\n",
        "        image_features = model.encode_image(image_inputs)\n",
        "        text_features = model.encode_text(text_input)\n",
        "\n",
        "    # normalise features\n",
        "    image_features /= image_features.norm(dim=-1, keepdim=True)\n",
        "    text_features /= text_features.norm(dim=-1, keepdim=True)\n",
        "\n",
        "    # dot product & softmax\n",
        "    similarity = (100.0 * text_features @ image_features.T).softmax(dim=-1)\n",
        "\n",
        "    # order by similarity\n",
        "    probs, indices = similarity[0].topk(5)\n",
        "    return probs, indices"
      ]
    },
    {
      "cell_type": "markdown",
      "metadata": {
        "id": "NeWcJp0LFX3n"
      },
      "source": [
        "#### CLIP"
      ]
    },
    {
      "cell_type": "code",
      "execution_count": null,
      "metadata": {
        "id": "_xcfEa1tKpe-",
        "colab": {
          "base_uri": "https://localhost:8080/"
        },
        "outputId": "5dea3546-5ecd-45f4-cb7f-f81cb92a3031"
      },
      "outputs": [
        {
          "output_type": "stream",
          "name": "stdout",
          "text": [
            "  Preparing metadata (setup.py) ... \u001b[?25l\u001b[?25hdone\n",
            "  Building wheel for clip (setup.py) ... \u001b[?25l\u001b[?25hdone\n"
          ]
        }
      ],
      "source": [
        "# install clip\n",
        "!pip install -q ftfy regex tqdm\n",
        "!pip install -q git+https://github.com/openai/CLIP.git\n",
        "\n",
        "import clip"
      ]
    },
    {
      "cell_type": "code",
      "execution_count": null,
      "metadata": {
        "id": "NGdxPA8VFZaR"
      },
      "outputs": [],
      "source": [
        "def get_image_ranking_clip(model, image_processor, image_paths, sentence):\n",
        "    image_inputs = torch.stack([image_processor(Image.open(ipath)) for ipath in image_paths]).to(device)\n",
        "    text_input = clip.tokenize(sentence).to(device)\n",
        "\n",
        "    with torch.no_grad():\n",
        "        # compute embeddings\n",
        "        image_features = model.encode_image(image_inputs)\n",
        "        text_features = model.encode_text(text_input)\n",
        "\n",
        "    # normalize features\n",
        "    image_features /= image_features.norm(dim=-1, keepdim=True)\n",
        "    text_features /= text_features.norm(dim=-1, keepdim=True)\n",
        "\n",
        "    # compute similarity scores\n",
        "    similarity = (100.0 * text_features @ image_features.T).softmax(dim=-1)\n",
        "\n",
        "    # rank images by similarity\n",
        "    probs, indices = similarity[0].topk(5)\n",
        "    return probs, indices"
      ]
    },
    {
      "cell_type": "markdown",
      "source": [
        "#### ALIGN"
      ],
      "metadata": {
        "id": "o2OA3YQWuUxd"
      }
    },
    {
      "cell_type": "code",
      "source": [
        "from transformers import AlignProcessor, AlignModel"
      ],
      "metadata": {
        "id": "8_t5V5UHzpBS"
      },
      "execution_count": null,
      "outputs": []
    },
    {
      "cell_type": "code",
      "source": [
        "def get_image_ranking_align(model, processor, image_paths, sentence):\n",
        "    image_inputs = [Image.open(ipath) for ipath in image_paths]\n",
        "    inputs = processor(images=image_inputs ,text=sentence, return_tensors=\"pt\")\n",
        "    with torch.no_grad():\n",
        "        outputs = model(**inputs)\n",
        "    logits_per_text = outputs.logits_per_text[0]\n",
        "    probs = logits_per_text.softmax(dim=-1)\n",
        "    ids_sorted = torch.argsort(probs, descending=True)\n",
        "    return probs[ids_sorted], ids_sorted"
      ],
      "metadata": {
        "id": "e8r6vF8LwFIX"
      },
      "execution_count": null,
      "outputs": []
    },
    {
      "cell_type": "markdown",
      "source": [
        "### Define model config"
      ],
      "metadata": {
        "id": "-yUbe3LywWBs"
      }
    },
    {
      "cell_type": "code",
      "source": [
        "model_configs = [\n",
        "    {\n",
        "        \"base_model\": \"CLIP\",\n",
        "        \"model_name\": \"ViT-B/32\",\n",
        "        \"display_name\": \"CLIP1\",\n",
        "        \"model\": clip.load(\"ViT-B/32\", device)[0],\n",
        "        \"preprocess\": clip.load(\"ViT-B/32\", device)[1]\n",
        "    },\n",
        "    {\n",
        "        \"base_model\": \"CLIP\",\n",
        "        \"model_name\": \"ViT-L/14\",\n",
        "        \"display_name\": \"CLIP2\",\n",
        "        \"model\": clip.load(\"ViT-L/14\", device)[0],\n",
        "        \"preprocess\": clip.load(\"ViT-L/14\", device)[1]\n",
        "    },\n",
        "    {\n",
        "        \"base_model\": \"CLIP\",\n",
        "        \"model_name\": \"RN50x64\",\n",
        "        \"display_name\": \"CLIP3\",\n",
        "        \"model\": clip.load(\"RN50x64\", device)[0],\n",
        "        \"preprocess\": clip.load(\"RN50x64\", device)[1]\n",
        "    },\n",
        "    {\n",
        "        \"base_model\": \"Align\",\n",
        "        \"model_name\": \"Base\",\n",
        "        \"display_name\": \"Align\",\n",
        "        \"model\": AlignModel.from_pretrained(\"kakaobrain/align-base\"),\n",
        "        \"preprocess\": AlignProcessor.from_pretrained(\"kakaobrain/align-base\")\n",
        "    },\n",
        "    {\n",
        "        \"base_model\": \"open_clip\",\n",
        "        \"model_name\": openclip_model_version,\n",
        "        \"display_name\": \"openclip\",\n",
        "        \"model\": model_openclip,\n",
        "        \"preprocess\": preprocess_openclip,\n",
        "        \"tokenizer\": open_clip_tokenizer,\n",
        "    }\n",
        "]"
      ],
      "metadata": {
        "id": "FXnWxnl6vyHZ",
        "colab": {
          "base_uri": "https://localhost:8080/",
          "height": 295,
          "referenced_widgets": [
            "23683f60e09542fbbb9a502d74bc68f0",
            "10bf521912c041baba4ed4a7bfe6533b",
            "670f7d621b874c18bfdc4e59ba25f6e3",
            "9f66b584586146c9b90cd6cf7a104ee7",
            "eb8f0754aa854ee59f05e507751f8c5b",
            "d369241494c243b2845b8da1101c485e",
            "c61a8c77878542828f51f8102a1ab6c1",
            "1fac844b95b448749163975e12b172ea",
            "48fb43be224b4d17b496f57907252352",
            "4451e702d15748e2b9a0f5cc7d02fd73",
            "2b4604b96f474af0a93edff386a9e1a1",
            "d5da5b2bacdc46ebafa2814c00dc6d65",
            "e1d366e5ff9f424990de297e93474947",
            "8939e8254a024fc3ba8d3e440ff206a6",
            "e452a06670654248adabd6f4a666bcb3",
            "4df76ed497bf4f539f8133a231705a6e",
            "a3a93ff66a0b4d9cb8f1a01cf99797f9",
            "c693810545cd4026913f91b13bf5cfa5",
            "5c05358f5e8e4d5882b1b723ed9a7adc",
            "95d0da5da79a4e57be56bc990a81dd81",
            "9535c7a185b040f39731e927be841666",
            "44fd921643154d9c81273e464ddbfc81",
            "72c8d810e7ce48629a4851f2fbfa03c0",
            "347f12b37f354c879d652e480d6c09dd",
            "0c9d31294a9f43938f9c9dba189fd88c",
            "4073977b361b48b7b9ebcf850970738e",
            "6e77a5b3910941868220459910963fe0",
            "564a74fdc52f47809036bd80318397af",
            "386aa5e7ee4342be82b8a0cb5318874a",
            "fdd7c146cbe34fbca023c3eb853b32dd",
            "c1c624bf09214d0c81f70b0c4b25fcd5",
            "11471f1378414282bc8e664ed6cb649a",
            "c4f29d73882143d5ad7c52dedfd609e9",
            "ac6b78f9c6fe4300895e7d577379eb95",
            "22974fb9fc6f4caca3ab17d53e4a8133",
            "0abbe72dcce945c69bed5b0047ce30ad",
            "47e5259d19b94551a287e32a60faf30b",
            "6d6ff4b2d6f74839be18f6901a3b0398",
            "15a3b0e7c91a4652a69a82ced7dd41fa",
            "81b80061d23d44f48b34db9923ca83f6",
            "8f1d9806f9c74ec89ce74f6a027689fd",
            "43a303bb6b0f490bb6386f161c1e936d",
            "4cfaff8884ed41b2bac70852079c2260",
            "0f2259fd46494593816af9753d34c8af",
            "b61a1caf0ee7413d994c7ac360ba1d2e",
            "45c0d021908f45b5b0aa2e9b89456777",
            "a3d744077fdb43138222e3b76fa82c04",
            "e28e207f734c4c11b8657c2a6aa09bfb",
            "012ab42c79e4427795edae284d81efac",
            "c9cf21cd3904493eac7e9abe6a91fb9f",
            "56bfb430a5c24b8fbeafd67396c6268d",
            "06c4a254faa4401697a2dae273c0fc59",
            "9b2ba4611ff241058b6e21f203f70bb0",
            "3cf385b22cde43e5b09158adc6ef826e",
            "82c995d58e3f4f3f9b9c0cb90a2e3a53",
            "57b9c6bfeed1424b86a68477cba89a9e",
            "c99c0af32e694fc589bd7558415f0fde",
            "65dfab7ed8cd4142a5da3e1b1dce0300",
            "fa377391fbf84b59abc4c317e4ce50c0",
            "f949f5d10ebe49b9b8ef558757fc5744",
            "32ba9e1d20c7435c821d9774f0df71b8",
            "162add64d4dd4dbc989025fc6ced9105",
            "62b56f4ef922413aa38d1f8bae17c27e",
            "9b74728bc82d4fe5ba5b8a3a410c805c",
            "520ab50462ce43f588bfc1ec6f4590c1",
            "67a240172f1544a097f3a8c230f9c6eb",
            "00ac7702ded0401691050d8fa8513939",
            "c43859a6a2ca4798a6ff18fbb2e6fde2",
            "3728113ed2a346d790fdde88ef6451e4",
            "85792807e0f24985a1d3da16db5429ab",
            "6188d87cec1c4592a78ed9651e1aa13d",
            "0570735bffc8447cbf3b4581b4f58146",
            "94b086341eaa46ef91329cc0a93aa4b6",
            "b0a7e2ae39a9416a9c735e4fedeb3f56",
            "07f8fc2b1e8342d2a4b077361583f674",
            "9e363f1f2fd14cf8899869cc96a0eb91",
            "cd440302c2bc4694a81e24f926d4ebc7"
          ]
        },
        "outputId": "e2290fbb-edfb-4f9d-e393-65c643f64d47"
      },
      "execution_count": null,
      "outputs": [
        {
          "output_type": "stream",
          "name": "stderr",
          "text": [
            "100%|███████████████████████████████████████| 338M/338M [00:07<00:00, 49.3MiB/s]\n",
            "100%|███████████████████████████████████████| 890M/890M [00:23<00:00, 40.5MiB/s]\n",
            "100%|█████████████████████████████████████| 1.26G/1.26G [00:17<00:00, 75.8MiB/s]\n"
          ]
        },
        {
          "output_type": "display_data",
          "data": {
            "text/plain": [
              "config.json:   0%|          | 0.00/5.25k [00:00<?, ?B/s]"
            ],
            "application/vnd.jupyter.widget-view+json": {
              "version_major": 2,
              "version_minor": 0,
              "model_id": "23683f60e09542fbbb9a502d74bc68f0"
            }
          },
          "metadata": {}
        },
        {
          "output_type": "display_data",
          "data": {
            "text/plain": [
              "pytorch_model.bin:   0%|          | 0.00/690M [00:00<?, ?B/s]"
            ],
            "application/vnd.jupyter.widget-view+json": {
              "version_major": 2,
              "version_minor": 0,
              "model_id": "d5da5b2bacdc46ebafa2814c00dc6d65"
            }
          },
          "metadata": {}
        },
        {
          "output_type": "display_data",
          "data": {
            "text/plain": [
              "model.safetensors:   0%|          | 0.00/690M [00:00<?, ?B/s]"
            ],
            "application/vnd.jupyter.widget-view+json": {
              "version_major": 2,
              "version_minor": 0,
              "model_id": "72c8d810e7ce48629a4851f2fbfa03c0"
            }
          },
          "metadata": {}
        },
        {
          "output_type": "display_data",
          "data": {
            "text/plain": [
              "preprocessor_config.json:   0%|          | 0.00/508 [00:00<?, ?B/s]"
            ],
            "application/vnd.jupyter.widget-view+json": {
              "version_major": 2,
              "version_minor": 0,
              "model_id": "ac6b78f9c6fe4300895e7d577379eb95"
            }
          },
          "metadata": {}
        },
        {
          "output_type": "display_data",
          "data": {
            "text/plain": [
              "tokenizer_config.json:   0%|          | 0.00/399 [00:00<?, ?B/s]"
            ],
            "application/vnd.jupyter.widget-view+json": {
              "version_major": 2,
              "version_minor": 0,
              "model_id": "b61a1caf0ee7413d994c7ac360ba1d2e"
            }
          },
          "metadata": {}
        },
        {
          "output_type": "display_data",
          "data": {
            "text/plain": [
              "vocab.txt:   0%|          | 0.00/232k [00:00<?, ?B/s]"
            ],
            "application/vnd.jupyter.widget-view+json": {
              "version_major": 2,
              "version_minor": 0,
              "model_id": "57b9c6bfeed1424b86a68477cba89a9e"
            }
          },
          "metadata": {}
        },
        {
          "output_type": "display_data",
          "data": {
            "text/plain": [
              "special_tokens_map.json:   0%|          | 0.00/125 [00:00<?, ?B/s]"
            ],
            "application/vnd.jupyter.widget-view+json": {
              "version_major": 2,
              "version_minor": 0,
              "model_id": "00ac7702ded0401691050d8fa8513939"
            }
          },
          "metadata": {}
        }
      ]
    },
    {
      "cell_type": "markdown",
      "source": [
        "### Define inference function"
      ],
      "metadata": {
        "id": "W54dAQtNsikZ"
      }
    },
    {
      "cell_type": "code",
      "execution_count": null,
      "metadata": {
        "id": "GRAFMw6-JbcT"
      },
      "outputs": [],
      "source": [
        "def get_predictions(model, processor, image_paths_list, text_inputs, base_model, model_name, tokenizer=None, model_display_name=None):\n",
        "    \"\"\"\n",
        "    Uses get_image_ranking to generate predictions and confidence scores for a image-list, text-input pairs\n",
        "    \"\"\"\n",
        "    print(f\"get_predictions for {model_display_name}\")\n",
        "    predictions, confidence_scores = [], []\n",
        "\n",
        "    for ipaths, text in zip(image_paths_list, text_inputs):\n",
        "        if len(ipaths) == 0:\n",
        "            predictions.append([])\n",
        "            confidence_scores.append([])\n",
        "            continue\n",
        "\n",
        "        if base_model == \"CLIP\":\n",
        "          values, indices = get_image_ranking_clip(model, processor, ipaths, text)\n",
        "        elif base_model == \"Align\":\n",
        "          values, indices = get_image_ranking_align(model, processor, ipaths, text)\n",
        "        elif base_model == \"open_clip\":\n",
        "          values, indices = openclip_image_ranking(model, processor, tokenizer, ipaths, text)\n",
        "        else:\n",
        "          raise ValueError(f\"Unknown base_model: {base_model}\")\n",
        "        predictions.append(list(indices.cpu()))\n",
        "        confidence_scores.append(100 * values)\n",
        "\n",
        "    return predictions, confidence_scores"
      ]
    },
    {
      "cell_type": "markdown",
      "metadata": {
        "id": "44IPMJvvni9f"
      },
      "source": [
        "## Generate predictions"
      ]
    },
    {
      "cell_type": "code",
      "execution_count": null,
      "metadata": {
        "id": "eS_54QdsJ3US"
      },
      "outputs": [],
      "source": [
        "def run_experiment(model_config):\n",
        "    # get predictions on images\n",
        "    predictions, confidence_scores = get_predictions(\n",
        "        model=model_config['model'],\n",
        "        processor=model_config['preprocess'],\n",
        "        image_paths_list=df['image_paths'],\n",
        "        text_inputs=df['text_input'],\n",
        "        base_model=model_config['base_model'],\n",
        "        model_name=model_config['model_name'],\n",
        "        tokenizer=open_clip_tokenizer,\n",
        "        model_display_name=model_config['display_name']\n",
        "    )\n",
        "    print(f\"Done ({len(predictions)} predictions)\")\n",
        "\n",
        "    # format results\n",
        "    ranked_data = [\n",
        "        {\n",
        "            \"compound\": df[\"compound\"].iloc[i],\n",
        "            \"expected_order\": [os.path.basename(df[\"image_paths\"].iloc[i][j]) for j in pred],\n",
        "            \"confidence_scores\": [f\"{x:.3f}\" for x in conf]\n",
        "        }\n",
        "        for i, (pred, conf) in enumerate(zip(predictions, confidence_scores))\n",
        "    ]\n",
        "    ranked_df = pd.DataFrame(ranked_data)\n",
        "    return ranked_df\n"
      ]
    },
    {
      "cell_type": "code",
      "source": [
        "for model_config in model_configs:\n",
        "    print(f\"Running model: {model_config['display_name']}\")\n",
        "    ranked_df = run_experiment(model_config)\n",
        "\n",
        "    # write out\n",
        "    filename = f\"{dataset}_{model_config['display_name']}.csv\"\n",
        "    ranked_df.to_csv(filename)"
      ],
      "metadata": {
        "id": "3s4wwSK9BVXb"
      },
      "execution_count": null,
      "outputs": []
    }
  ],
  "metadata": {
    "colab": {
      "provenance": [],
      "collapsed_sections": [
        "otLzgqFuKy4q",
        "9HDvXUFiHn9H",
        "0ok0L6UJh_wA",
        "tilTcFhVJp7u",
        "2nrl3zZgk7iq",
        "jWR1lpndqwHk",
        "nZchmZEGlGsr",
        "h1Minc9mDZ0d",
        "sq34SmwTh5Cs",
        "O2jw8BOPU4fs",
        "2PWnEH4inai-",
        "xHFQSJlVGCQE",
        "3C-URQw2uOhh",
        "NeWcJp0LFX3n",
        "o2OA3YQWuUxd",
        "-yUbe3LywWBs",
        "W54dAQtNsikZ",
        "44IPMJvvni9f"
      ]
    },
    "kernelspec": {
      "display_name": "Python 3",
      "name": "python3"
    },
    "language_info": {
      "name": "python"
    },
    "widgets": {
      "application/vnd.jupyter.widget-state+json": {
        "0b0757905aa049bcab3da1e8b68a0b96": {
          "model_module": "@jupyter-widgets/controls",
          "model_name": "HBoxModel",
          "model_module_version": "1.5.0",
          "state": {
            "_dom_classes": [],
            "_model_module": "@jupyter-widgets/controls",
            "_model_module_version": "1.5.0",
            "_model_name": "HBoxModel",
            "_view_count": null,
            "_view_module": "@jupyter-widgets/controls",
            "_view_module_version": "1.5.0",
            "_view_name": "HBoxView",
            "box_style": "",
            "children": [
              "IPY_MODEL_51e08b6d86a64cd2920f7e648089fe1a",
              "IPY_MODEL_c58fad79be22478eb70b29d444fdb1ce",
              "IPY_MODEL_20f98a6628a74221891e1dcd1e73ddb5"
            ],
            "layout": "IPY_MODEL_adbd4d3679e04e6eba94222fabce038f"
          }
        },
        "51e08b6d86a64cd2920f7e648089fe1a": {
          "model_module": "@jupyter-widgets/controls",
          "model_name": "HTMLModel",
          "model_module_version": "1.5.0",
          "state": {
            "_dom_classes": [],
            "_model_module": "@jupyter-widgets/controls",
            "_model_module_version": "1.5.0",
            "_model_name": "HTMLModel",
            "_view_count": null,
            "_view_module": "@jupyter-widgets/controls",
            "_view_module_version": "1.5.0",
            "_view_name": "HTMLView",
            "description": "",
            "description_tooltip": null,
            "layout": "IPY_MODEL_2935cb16388e4d4eb92a376eb6e36691",
            "placeholder": "​",
            "style": "IPY_MODEL_d5d4b9bb2faf4b3c97923e7a2436c029",
            "value": "open_clip_model.safetensors: 100%"
          }
        },
        "c58fad79be22478eb70b29d444fdb1ce": {
          "model_module": "@jupyter-widgets/controls",
          "model_name": "FloatProgressModel",
          "model_module_version": "1.5.0",
          "state": {
            "_dom_classes": [],
            "_model_module": "@jupyter-widgets/controls",
            "_model_module_version": "1.5.0",
            "_model_name": "FloatProgressModel",
            "_view_count": null,
            "_view_module": "@jupyter-widgets/controls",
            "_view_module_version": "1.5.0",
            "_view_name": "ProgressView",
            "bar_style": "success",
            "description": "",
            "description_tooltip": null,
            "layout": "IPY_MODEL_ebffe34b769a4355842906fc1eb2560c",
            "max": 605143316,
            "min": 0,
            "orientation": "horizontal",
            "style": "IPY_MODEL_663a586f2e12438192aff53b5bdd6a1d",
            "value": 605143316
          }
        },
        "20f98a6628a74221891e1dcd1e73ddb5": {
          "model_module": "@jupyter-widgets/controls",
          "model_name": "HTMLModel",
          "model_module_version": "1.5.0",
          "state": {
            "_dom_classes": [],
            "_model_module": "@jupyter-widgets/controls",
            "_model_module_version": "1.5.0",
            "_model_name": "HTMLModel",
            "_view_count": null,
            "_view_module": "@jupyter-widgets/controls",
            "_view_module_version": "1.5.0",
            "_view_name": "HTMLView",
            "description": "",
            "description_tooltip": null,
            "layout": "IPY_MODEL_62ef13497d534da49e43b04bc13ae767",
            "placeholder": "​",
            "style": "IPY_MODEL_5c35f43160e74d2993e90ac66257a4e1",
            "value": " 605M/605M [00:03&lt;00:00, 184MB/s]"
          }
        },
        "adbd4d3679e04e6eba94222fabce038f": {
          "model_module": "@jupyter-widgets/base",
          "model_name": "LayoutModel",
          "model_module_version": "1.2.0",
          "state": {
            "_model_module": "@jupyter-widgets/base",
            "_model_module_version": "1.2.0",
            "_model_name": "LayoutModel",
            "_view_count": null,
            "_view_module": "@jupyter-widgets/base",
            "_view_module_version": "1.2.0",
            "_view_name": "LayoutView",
            "align_content": null,
            "align_items": null,
            "align_self": null,
            "border": null,
            "bottom": null,
            "display": null,
            "flex": null,
            "flex_flow": null,
            "grid_area": null,
            "grid_auto_columns": null,
            "grid_auto_flow": null,
            "grid_auto_rows": null,
            "grid_column": null,
            "grid_gap": null,
            "grid_row": null,
            "grid_template_areas": null,
            "grid_template_columns": null,
            "grid_template_rows": null,
            "height": null,
            "justify_content": null,
            "justify_items": null,
            "left": null,
            "margin": null,
            "max_height": null,
            "max_width": null,
            "min_height": null,
            "min_width": null,
            "object_fit": null,
            "object_position": null,
            "order": null,
            "overflow": null,
            "overflow_x": null,
            "overflow_y": null,
            "padding": null,
            "right": null,
            "top": null,
            "visibility": null,
            "width": null
          }
        },
        "2935cb16388e4d4eb92a376eb6e36691": {
          "model_module": "@jupyter-widgets/base",
          "model_name": "LayoutModel",
          "model_module_version": "1.2.0",
          "state": {
            "_model_module": "@jupyter-widgets/base",
            "_model_module_version": "1.2.0",
            "_model_name": "LayoutModel",
            "_view_count": null,
            "_view_module": "@jupyter-widgets/base",
            "_view_module_version": "1.2.0",
            "_view_name": "LayoutView",
            "align_content": null,
            "align_items": null,
            "align_self": null,
            "border": null,
            "bottom": null,
            "display": null,
            "flex": null,
            "flex_flow": null,
            "grid_area": null,
            "grid_auto_columns": null,
            "grid_auto_flow": null,
            "grid_auto_rows": null,
            "grid_column": null,
            "grid_gap": null,
            "grid_row": null,
            "grid_template_areas": null,
            "grid_template_columns": null,
            "grid_template_rows": null,
            "height": null,
            "justify_content": null,
            "justify_items": null,
            "left": null,
            "margin": null,
            "max_height": null,
            "max_width": null,
            "min_height": null,
            "min_width": null,
            "object_fit": null,
            "object_position": null,
            "order": null,
            "overflow": null,
            "overflow_x": null,
            "overflow_y": null,
            "padding": null,
            "right": null,
            "top": null,
            "visibility": null,
            "width": null
          }
        },
        "d5d4b9bb2faf4b3c97923e7a2436c029": {
          "model_module": "@jupyter-widgets/controls",
          "model_name": "DescriptionStyleModel",
          "model_module_version": "1.5.0",
          "state": {
            "_model_module": "@jupyter-widgets/controls",
            "_model_module_version": "1.5.0",
            "_model_name": "DescriptionStyleModel",
            "_view_count": null,
            "_view_module": "@jupyter-widgets/base",
            "_view_module_version": "1.2.0",
            "_view_name": "StyleView",
            "description_width": ""
          }
        },
        "ebffe34b769a4355842906fc1eb2560c": {
          "model_module": "@jupyter-widgets/base",
          "model_name": "LayoutModel",
          "model_module_version": "1.2.0",
          "state": {
            "_model_module": "@jupyter-widgets/base",
            "_model_module_version": "1.2.0",
            "_model_name": "LayoutModel",
            "_view_count": null,
            "_view_module": "@jupyter-widgets/base",
            "_view_module_version": "1.2.0",
            "_view_name": "LayoutView",
            "align_content": null,
            "align_items": null,
            "align_self": null,
            "border": null,
            "bottom": null,
            "display": null,
            "flex": null,
            "flex_flow": null,
            "grid_area": null,
            "grid_auto_columns": null,
            "grid_auto_flow": null,
            "grid_auto_rows": null,
            "grid_column": null,
            "grid_gap": null,
            "grid_row": null,
            "grid_template_areas": null,
            "grid_template_columns": null,
            "grid_template_rows": null,
            "height": null,
            "justify_content": null,
            "justify_items": null,
            "left": null,
            "margin": null,
            "max_height": null,
            "max_width": null,
            "min_height": null,
            "min_width": null,
            "object_fit": null,
            "object_position": null,
            "order": null,
            "overflow": null,
            "overflow_x": null,
            "overflow_y": null,
            "padding": null,
            "right": null,
            "top": null,
            "visibility": null,
            "width": null
          }
        },
        "663a586f2e12438192aff53b5bdd6a1d": {
          "model_module": "@jupyter-widgets/controls",
          "model_name": "ProgressStyleModel",
          "model_module_version": "1.5.0",
          "state": {
            "_model_module": "@jupyter-widgets/controls",
            "_model_module_version": "1.5.0",
            "_model_name": "ProgressStyleModel",
            "_view_count": null,
            "_view_module": "@jupyter-widgets/base",
            "_view_module_version": "1.2.0",
            "_view_name": "StyleView",
            "bar_color": null,
            "description_width": ""
          }
        },
        "62ef13497d534da49e43b04bc13ae767": {
          "model_module": "@jupyter-widgets/base",
          "model_name": "LayoutModel",
          "model_module_version": "1.2.0",
          "state": {
            "_model_module": "@jupyter-widgets/base",
            "_model_module_version": "1.2.0",
            "_model_name": "LayoutModel",
            "_view_count": null,
            "_view_module": "@jupyter-widgets/base",
            "_view_module_version": "1.2.0",
            "_view_name": "LayoutView",
            "align_content": null,
            "align_items": null,
            "align_self": null,
            "border": null,
            "bottom": null,
            "display": null,
            "flex": null,
            "flex_flow": null,
            "grid_area": null,
            "grid_auto_columns": null,
            "grid_auto_flow": null,
            "grid_auto_rows": null,
            "grid_column": null,
            "grid_gap": null,
            "grid_row": null,
            "grid_template_areas": null,
            "grid_template_columns": null,
            "grid_template_rows": null,
            "height": null,
            "justify_content": null,
            "justify_items": null,
            "left": null,
            "margin": null,
            "max_height": null,
            "max_width": null,
            "min_height": null,
            "min_width": null,
            "object_fit": null,
            "object_position": null,
            "order": null,
            "overflow": null,
            "overflow_x": null,
            "overflow_y": null,
            "padding": null,
            "right": null,
            "top": null,
            "visibility": null,
            "width": null
          }
        },
        "5c35f43160e74d2993e90ac66257a4e1": {
          "model_module": "@jupyter-widgets/controls",
          "model_name": "DescriptionStyleModel",
          "model_module_version": "1.5.0",
          "state": {
            "_model_module": "@jupyter-widgets/controls",
            "_model_module_version": "1.5.0",
            "_model_name": "DescriptionStyleModel",
            "_view_count": null,
            "_view_module": "@jupyter-widgets/base",
            "_view_module_version": "1.2.0",
            "_view_name": "StyleView",
            "description_width": ""
          }
        },
        "23683f60e09542fbbb9a502d74bc68f0": {
          "model_module": "@jupyter-widgets/controls",
          "model_name": "HBoxModel",
          "model_module_version": "1.5.0",
          "state": {
            "_dom_classes": [],
            "_model_module": "@jupyter-widgets/controls",
            "_model_module_version": "1.5.0",
            "_model_name": "HBoxModel",
            "_view_count": null,
            "_view_module": "@jupyter-widgets/controls",
            "_view_module_version": "1.5.0",
            "_view_name": "HBoxView",
            "box_style": "",
            "children": [
              "IPY_MODEL_10bf521912c041baba4ed4a7bfe6533b",
              "IPY_MODEL_670f7d621b874c18bfdc4e59ba25f6e3",
              "IPY_MODEL_9f66b584586146c9b90cd6cf7a104ee7"
            ],
            "layout": "IPY_MODEL_eb8f0754aa854ee59f05e507751f8c5b"
          }
        },
        "10bf521912c041baba4ed4a7bfe6533b": {
          "model_module": "@jupyter-widgets/controls",
          "model_name": "HTMLModel",
          "model_module_version": "1.5.0",
          "state": {
            "_dom_classes": [],
            "_model_module": "@jupyter-widgets/controls",
            "_model_module_version": "1.5.0",
            "_model_name": "HTMLModel",
            "_view_count": null,
            "_view_module": "@jupyter-widgets/controls",
            "_view_module_version": "1.5.0",
            "_view_name": "HTMLView",
            "description": "",
            "description_tooltip": null,
            "layout": "IPY_MODEL_d369241494c243b2845b8da1101c485e",
            "placeholder": "​",
            "style": "IPY_MODEL_c61a8c77878542828f51f8102a1ab6c1",
            "value": "config.json: 100%"
          }
        },
        "670f7d621b874c18bfdc4e59ba25f6e3": {
          "model_module": "@jupyter-widgets/controls",
          "model_name": "FloatProgressModel",
          "model_module_version": "1.5.0",
          "state": {
            "_dom_classes": [],
            "_model_module": "@jupyter-widgets/controls",
            "_model_module_version": "1.5.0",
            "_model_name": "FloatProgressModel",
            "_view_count": null,
            "_view_module": "@jupyter-widgets/controls",
            "_view_module_version": "1.5.0",
            "_view_name": "ProgressView",
            "bar_style": "success",
            "description": "",
            "description_tooltip": null,
            "layout": "IPY_MODEL_1fac844b95b448749163975e12b172ea",
            "max": 5249,
            "min": 0,
            "orientation": "horizontal",
            "style": "IPY_MODEL_48fb43be224b4d17b496f57907252352",
            "value": 5249
          }
        },
        "9f66b584586146c9b90cd6cf7a104ee7": {
          "model_module": "@jupyter-widgets/controls",
          "model_name": "HTMLModel",
          "model_module_version": "1.5.0",
          "state": {
            "_dom_classes": [],
            "_model_module": "@jupyter-widgets/controls",
            "_model_module_version": "1.5.0",
            "_model_name": "HTMLModel",
            "_view_count": null,
            "_view_module": "@jupyter-widgets/controls",
            "_view_module_version": "1.5.0",
            "_view_name": "HTMLView",
            "description": "",
            "description_tooltip": null,
            "layout": "IPY_MODEL_4451e702d15748e2b9a0f5cc7d02fd73",
            "placeholder": "​",
            "style": "IPY_MODEL_2b4604b96f474af0a93edff386a9e1a1",
            "value": " 5.25k/5.25k [00:00&lt;00:00, 228kB/s]"
          }
        },
        "eb8f0754aa854ee59f05e507751f8c5b": {
          "model_module": "@jupyter-widgets/base",
          "model_name": "LayoutModel",
          "model_module_version": "1.2.0",
          "state": {
            "_model_module": "@jupyter-widgets/base",
            "_model_module_version": "1.2.0",
            "_model_name": "LayoutModel",
            "_view_count": null,
            "_view_module": "@jupyter-widgets/base",
            "_view_module_version": "1.2.0",
            "_view_name": "LayoutView",
            "align_content": null,
            "align_items": null,
            "align_self": null,
            "border": null,
            "bottom": null,
            "display": null,
            "flex": null,
            "flex_flow": null,
            "grid_area": null,
            "grid_auto_columns": null,
            "grid_auto_flow": null,
            "grid_auto_rows": null,
            "grid_column": null,
            "grid_gap": null,
            "grid_row": null,
            "grid_template_areas": null,
            "grid_template_columns": null,
            "grid_template_rows": null,
            "height": null,
            "justify_content": null,
            "justify_items": null,
            "left": null,
            "margin": null,
            "max_height": null,
            "max_width": null,
            "min_height": null,
            "min_width": null,
            "object_fit": null,
            "object_position": null,
            "order": null,
            "overflow": null,
            "overflow_x": null,
            "overflow_y": null,
            "padding": null,
            "right": null,
            "top": null,
            "visibility": null,
            "width": null
          }
        },
        "d369241494c243b2845b8da1101c485e": {
          "model_module": "@jupyter-widgets/base",
          "model_name": "LayoutModel",
          "model_module_version": "1.2.0",
          "state": {
            "_model_module": "@jupyter-widgets/base",
            "_model_module_version": "1.2.0",
            "_model_name": "LayoutModel",
            "_view_count": null,
            "_view_module": "@jupyter-widgets/base",
            "_view_module_version": "1.2.0",
            "_view_name": "LayoutView",
            "align_content": null,
            "align_items": null,
            "align_self": null,
            "border": null,
            "bottom": null,
            "display": null,
            "flex": null,
            "flex_flow": null,
            "grid_area": null,
            "grid_auto_columns": null,
            "grid_auto_flow": null,
            "grid_auto_rows": null,
            "grid_column": null,
            "grid_gap": null,
            "grid_row": null,
            "grid_template_areas": null,
            "grid_template_columns": null,
            "grid_template_rows": null,
            "height": null,
            "justify_content": null,
            "justify_items": null,
            "left": null,
            "margin": null,
            "max_height": null,
            "max_width": null,
            "min_height": null,
            "min_width": null,
            "object_fit": null,
            "object_position": null,
            "order": null,
            "overflow": null,
            "overflow_x": null,
            "overflow_y": null,
            "padding": null,
            "right": null,
            "top": null,
            "visibility": null,
            "width": null
          }
        },
        "c61a8c77878542828f51f8102a1ab6c1": {
          "model_module": "@jupyter-widgets/controls",
          "model_name": "DescriptionStyleModel",
          "model_module_version": "1.5.0",
          "state": {
            "_model_module": "@jupyter-widgets/controls",
            "_model_module_version": "1.5.0",
            "_model_name": "DescriptionStyleModel",
            "_view_count": null,
            "_view_module": "@jupyter-widgets/base",
            "_view_module_version": "1.2.0",
            "_view_name": "StyleView",
            "description_width": ""
          }
        },
        "1fac844b95b448749163975e12b172ea": {
          "model_module": "@jupyter-widgets/base",
          "model_name": "LayoutModel",
          "model_module_version": "1.2.0",
          "state": {
            "_model_module": "@jupyter-widgets/base",
            "_model_module_version": "1.2.0",
            "_model_name": "LayoutModel",
            "_view_count": null,
            "_view_module": "@jupyter-widgets/base",
            "_view_module_version": "1.2.0",
            "_view_name": "LayoutView",
            "align_content": null,
            "align_items": null,
            "align_self": null,
            "border": null,
            "bottom": null,
            "display": null,
            "flex": null,
            "flex_flow": null,
            "grid_area": null,
            "grid_auto_columns": null,
            "grid_auto_flow": null,
            "grid_auto_rows": null,
            "grid_column": null,
            "grid_gap": null,
            "grid_row": null,
            "grid_template_areas": null,
            "grid_template_columns": null,
            "grid_template_rows": null,
            "height": null,
            "justify_content": null,
            "justify_items": null,
            "left": null,
            "margin": null,
            "max_height": null,
            "max_width": null,
            "min_height": null,
            "min_width": null,
            "object_fit": null,
            "object_position": null,
            "order": null,
            "overflow": null,
            "overflow_x": null,
            "overflow_y": null,
            "padding": null,
            "right": null,
            "top": null,
            "visibility": null,
            "width": null
          }
        },
        "48fb43be224b4d17b496f57907252352": {
          "model_module": "@jupyter-widgets/controls",
          "model_name": "ProgressStyleModel",
          "model_module_version": "1.5.0",
          "state": {
            "_model_module": "@jupyter-widgets/controls",
            "_model_module_version": "1.5.0",
            "_model_name": "ProgressStyleModel",
            "_view_count": null,
            "_view_module": "@jupyter-widgets/base",
            "_view_module_version": "1.2.0",
            "_view_name": "StyleView",
            "bar_color": null,
            "description_width": ""
          }
        },
        "4451e702d15748e2b9a0f5cc7d02fd73": {
          "model_module": "@jupyter-widgets/base",
          "model_name": "LayoutModel",
          "model_module_version": "1.2.0",
          "state": {
            "_model_module": "@jupyter-widgets/base",
            "_model_module_version": "1.2.0",
            "_model_name": "LayoutModel",
            "_view_count": null,
            "_view_module": "@jupyter-widgets/base",
            "_view_module_version": "1.2.0",
            "_view_name": "LayoutView",
            "align_content": null,
            "align_items": null,
            "align_self": null,
            "border": null,
            "bottom": null,
            "display": null,
            "flex": null,
            "flex_flow": null,
            "grid_area": null,
            "grid_auto_columns": null,
            "grid_auto_flow": null,
            "grid_auto_rows": null,
            "grid_column": null,
            "grid_gap": null,
            "grid_row": null,
            "grid_template_areas": null,
            "grid_template_columns": null,
            "grid_template_rows": null,
            "height": null,
            "justify_content": null,
            "justify_items": null,
            "left": null,
            "margin": null,
            "max_height": null,
            "max_width": null,
            "min_height": null,
            "min_width": null,
            "object_fit": null,
            "object_position": null,
            "order": null,
            "overflow": null,
            "overflow_x": null,
            "overflow_y": null,
            "padding": null,
            "right": null,
            "top": null,
            "visibility": null,
            "width": null
          }
        },
        "2b4604b96f474af0a93edff386a9e1a1": {
          "model_module": "@jupyter-widgets/controls",
          "model_name": "DescriptionStyleModel",
          "model_module_version": "1.5.0",
          "state": {
            "_model_module": "@jupyter-widgets/controls",
            "_model_module_version": "1.5.0",
            "_model_name": "DescriptionStyleModel",
            "_view_count": null,
            "_view_module": "@jupyter-widgets/base",
            "_view_module_version": "1.2.0",
            "_view_name": "StyleView",
            "description_width": ""
          }
        },
        "d5da5b2bacdc46ebafa2814c00dc6d65": {
          "model_module": "@jupyter-widgets/controls",
          "model_name": "HBoxModel",
          "model_module_version": "1.5.0",
          "state": {
            "_dom_classes": [],
            "_model_module": "@jupyter-widgets/controls",
            "_model_module_version": "1.5.0",
            "_model_name": "HBoxModel",
            "_view_count": null,
            "_view_module": "@jupyter-widgets/controls",
            "_view_module_version": "1.5.0",
            "_view_name": "HBoxView",
            "box_style": "",
            "children": [
              "IPY_MODEL_e1d366e5ff9f424990de297e93474947",
              "IPY_MODEL_8939e8254a024fc3ba8d3e440ff206a6",
              "IPY_MODEL_e452a06670654248adabd6f4a666bcb3"
            ],
            "layout": "IPY_MODEL_4df76ed497bf4f539f8133a231705a6e"
          }
        },
        "e1d366e5ff9f424990de297e93474947": {
          "model_module": "@jupyter-widgets/controls",
          "model_name": "HTMLModel",
          "model_module_version": "1.5.0",
          "state": {
            "_dom_classes": [],
            "_model_module": "@jupyter-widgets/controls",
            "_model_module_version": "1.5.0",
            "_model_name": "HTMLModel",
            "_view_count": null,
            "_view_module": "@jupyter-widgets/controls",
            "_view_module_version": "1.5.0",
            "_view_name": "HTMLView",
            "description": "",
            "description_tooltip": null,
            "layout": "IPY_MODEL_a3a93ff66a0b4d9cb8f1a01cf99797f9",
            "placeholder": "​",
            "style": "IPY_MODEL_c693810545cd4026913f91b13bf5cfa5",
            "value": "pytorch_model.bin: 100%"
          }
        },
        "8939e8254a024fc3ba8d3e440ff206a6": {
          "model_module": "@jupyter-widgets/controls",
          "model_name": "FloatProgressModel",
          "model_module_version": "1.5.0",
          "state": {
            "_dom_classes": [],
            "_model_module": "@jupyter-widgets/controls",
            "_model_module_version": "1.5.0",
            "_model_name": "FloatProgressModel",
            "_view_count": null,
            "_view_module": "@jupyter-widgets/controls",
            "_view_module_version": "1.5.0",
            "_view_name": "ProgressView",
            "bar_style": "success",
            "description": "",
            "description_tooltip": null,
            "layout": "IPY_MODEL_5c05358f5e8e4d5882b1b723ed9a7adc",
            "max": 690175332,
            "min": 0,
            "orientation": "horizontal",
            "style": "IPY_MODEL_95d0da5da79a4e57be56bc990a81dd81",
            "value": 690175332
          }
        },
        "e452a06670654248adabd6f4a666bcb3": {
          "model_module": "@jupyter-widgets/controls",
          "model_name": "HTMLModel",
          "model_module_version": "1.5.0",
          "state": {
            "_dom_classes": [],
            "_model_module": "@jupyter-widgets/controls",
            "_model_module_version": "1.5.0",
            "_model_name": "HTMLModel",
            "_view_count": null,
            "_view_module": "@jupyter-widgets/controls",
            "_view_module_version": "1.5.0",
            "_view_name": "HTMLView",
            "description": "",
            "description_tooltip": null,
            "layout": "IPY_MODEL_9535c7a185b040f39731e927be841666",
            "placeholder": "​",
            "style": "IPY_MODEL_44fd921643154d9c81273e464ddbfc81",
            "value": " 690M/690M [00:10&lt;00:00, 167MB/s]"
          }
        },
        "4df76ed497bf4f539f8133a231705a6e": {
          "model_module": "@jupyter-widgets/base",
          "model_name": "LayoutModel",
          "model_module_version": "1.2.0",
          "state": {
            "_model_module": "@jupyter-widgets/base",
            "_model_module_version": "1.2.0",
            "_model_name": "LayoutModel",
            "_view_count": null,
            "_view_module": "@jupyter-widgets/base",
            "_view_module_version": "1.2.0",
            "_view_name": "LayoutView",
            "align_content": null,
            "align_items": null,
            "align_self": null,
            "border": null,
            "bottom": null,
            "display": null,
            "flex": null,
            "flex_flow": null,
            "grid_area": null,
            "grid_auto_columns": null,
            "grid_auto_flow": null,
            "grid_auto_rows": null,
            "grid_column": null,
            "grid_gap": null,
            "grid_row": null,
            "grid_template_areas": null,
            "grid_template_columns": null,
            "grid_template_rows": null,
            "height": null,
            "justify_content": null,
            "justify_items": null,
            "left": null,
            "margin": null,
            "max_height": null,
            "max_width": null,
            "min_height": null,
            "min_width": null,
            "object_fit": null,
            "object_position": null,
            "order": null,
            "overflow": null,
            "overflow_x": null,
            "overflow_y": null,
            "padding": null,
            "right": null,
            "top": null,
            "visibility": null,
            "width": null
          }
        },
        "a3a93ff66a0b4d9cb8f1a01cf99797f9": {
          "model_module": "@jupyter-widgets/base",
          "model_name": "LayoutModel",
          "model_module_version": "1.2.0",
          "state": {
            "_model_module": "@jupyter-widgets/base",
            "_model_module_version": "1.2.0",
            "_model_name": "LayoutModel",
            "_view_count": null,
            "_view_module": "@jupyter-widgets/base",
            "_view_module_version": "1.2.0",
            "_view_name": "LayoutView",
            "align_content": null,
            "align_items": null,
            "align_self": null,
            "border": null,
            "bottom": null,
            "display": null,
            "flex": null,
            "flex_flow": null,
            "grid_area": null,
            "grid_auto_columns": null,
            "grid_auto_flow": null,
            "grid_auto_rows": null,
            "grid_column": null,
            "grid_gap": null,
            "grid_row": null,
            "grid_template_areas": null,
            "grid_template_columns": null,
            "grid_template_rows": null,
            "height": null,
            "justify_content": null,
            "justify_items": null,
            "left": null,
            "margin": null,
            "max_height": null,
            "max_width": null,
            "min_height": null,
            "min_width": null,
            "object_fit": null,
            "object_position": null,
            "order": null,
            "overflow": null,
            "overflow_x": null,
            "overflow_y": null,
            "padding": null,
            "right": null,
            "top": null,
            "visibility": null,
            "width": null
          }
        },
        "c693810545cd4026913f91b13bf5cfa5": {
          "model_module": "@jupyter-widgets/controls",
          "model_name": "DescriptionStyleModel",
          "model_module_version": "1.5.0",
          "state": {
            "_model_module": "@jupyter-widgets/controls",
            "_model_module_version": "1.5.0",
            "_model_name": "DescriptionStyleModel",
            "_view_count": null,
            "_view_module": "@jupyter-widgets/base",
            "_view_module_version": "1.2.0",
            "_view_name": "StyleView",
            "description_width": ""
          }
        },
        "5c05358f5e8e4d5882b1b723ed9a7adc": {
          "model_module": "@jupyter-widgets/base",
          "model_name": "LayoutModel",
          "model_module_version": "1.2.0",
          "state": {
            "_model_module": "@jupyter-widgets/base",
            "_model_module_version": "1.2.0",
            "_model_name": "LayoutModel",
            "_view_count": null,
            "_view_module": "@jupyter-widgets/base",
            "_view_module_version": "1.2.0",
            "_view_name": "LayoutView",
            "align_content": null,
            "align_items": null,
            "align_self": null,
            "border": null,
            "bottom": null,
            "display": null,
            "flex": null,
            "flex_flow": null,
            "grid_area": null,
            "grid_auto_columns": null,
            "grid_auto_flow": null,
            "grid_auto_rows": null,
            "grid_column": null,
            "grid_gap": null,
            "grid_row": null,
            "grid_template_areas": null,
            "grid_template_columns": null,
            "grid_template_rows": null,
            "height": null,
            "justify_content": null,
            "justify_items": null,
            "left": null,
            "margin": null,
            "max_height": null,
            "max_width": null,
            "min_height": null,
            "min_width": null,
            "object_fit": null,
            "object_position": null,
            "order": null,
            "overflow": null,
            "overflow_x": null,
            "overflow_y": null,
            "padding": null,
            "right": null,
            "top": null,
            "visibility": null,
            "width": null
          }
        },
        "95d0da5da79a4e57be56bc990a81dd81": {
          "model_module": "@jupyter-widgets/controls",
          "model_name": "ProgressStyleModel",
          "model_module_version": "1.5.0",
          "state": {
            "_model_module": "@jupyter-widgets/controls",
            "_model_module_version": "1.5.0",
            "_model_name": "ProgressStyleModel",
            "_view_count": null,
            "_view_module": "@jupyter-widgets/base",
            "_view_module_version": "1.2.0",
            "_view_name": "StyleView",
            "bar_color": null,
            "description_width": ""
          }
        },
        "9535c7a185b040f39731e927be841666": {
          "model_module": "@jupyter-widgets/base",
          "model_name": "LayoutModel",
          "model_module_version": "1.2.0",
          "state": {
            "_model_module": "@jupyter-widgets/base",
            "_model_module_version": "1.2.0",
            "_model_name": "LayoutModel",
            "_view_count": null,
            "_view_module": "@jupyter-widgets/base",
            "_view_module_version": "1.2.0",
            "_view_name": "LayoutView",
            "align_content": null,
            "align_items": null,
            "align_self": null,
            "border": null,
            "bottom": null,
            "display": null,
            "flex": null,
            "flex_flow": null,
            "grid_area": null,
            "grid_auto_columns": null,
            "grid_auto_flow": null,
            "grid_auto_rows": null,
            "grid_column": null,
            "grid_gap": null,
            "grid_row": null,
            "grid_template_areas": null,
            "grid_template_columns": null,
            "grid_template_rows": null,
            "height": null,
            "justify_content": null,
            "justify_items": null,
            "left": null,
            "margin": null,
            "max_height": null,
            "max_width": null,
            "min_height": null,
            "min_width": null,
            "object_fit": null,
            "object_position": null,
            "order": null,
            "overflow": null,
            "overflow_x": null,
            "overflow_y": null,
            "padding": null,
            "right": null,
            "top": null,
            "visibility": null,
            "width": null
          }
        },
        "44fd921643154d9c81273e464ddbfc81": {
          "model_module": "@jupyter-widgets/controls",
          "model_name": "DescriptionStyleModel",
          "model_module_version": "1.5.0",
          "state": {
            "_model_module": "@jupyter-widgets/controls",
            "_model_module_version": "1.5.0",
            "_model_name": "DescriptionStyleModel",
            "_view_count": null,
            "_view_module": "@jupyter-widgets/base",
            "_view_module_version": "1.2.0",
            "_view_name": "StyleView",
            "description_width": ""
          }
        },
        "72c8d810e7ce48629a4851f2fbfa03c0": {
          "model_module": "@jupyter-widgets/controls",
          "model_name": "HBoxModel",
          "model_module_version": "1.5.0",
          "state": {
            "_dom_classes": [],
            "_model_module": "@jupyter-widgets/controls",
            "_model_module_version": "1.5.0",
            "_model_name": "HBoxModel",
            "_view_count": null,
            "_view_module": "@jupyter-widgets/controls",
            "_view_module_version": "1.5.0",
            "_view_name": "HBoxView",
            "box_style": "",
            "children": [
              "IPY_MODEL_347f12b37f354c879d652e480d6c09dd",
              "IPY_MODEL_0c9d31294a9f43938f9c9dba189fd88c",
              "IPY_MODEL_4073977b361b48b7b9ebcf850970738e"
            ],
            "layout": "IPY_MODEL_6e77a5b3910941868220459910963fe0"
          }
        },
        "347f12b37f354c879d652e480d6c09dd": {
          "model_module": "@jupyter-widgets/controls",
          "model_name": "HTMLModel",
          "model_module_version": "1.5.0",
          "state": {
            "_dom_classes": [],
            "_model_module": "@jupyter-widgets/controls",
            "_model_module_version": "1.5.0",
            "_model_name": "HTMLModel",
            "_view_count": null,
            "_view_module": "@jupyter-widgets/controls",
            "_view_module_version": "1.5.0",
            "_view_name": "HTMLView",
            "description": "",
            "description_tooltip": null,
            "layout": "IPY_MODEL_564a74fdc52f47809036bd80318397af",
            "placeholder": "​",
            "style": "IPY_MODEL_386aa5e7ee4342be82b8a0cb5318874a",
            "value": "model.safetensors: 100%"
          }
        },
        "0c9d31294a9f43938f9c9dba189fd88c": {
          "model_module": "@jupyter-widgets/controls",
          "model_name": "FloatProgressModel",
          "model_module_version": "1.5.0",
          "state": {
            "_dom_classes": [],
            "_model_module": "@jupyter-widgets/controls",
            "_model_module_version": "1.5.0",
            "_model_name": "FloatProgressModel",
            "_view_count": null,
            "_view_module": "@jupyter-widgets/controls",
            "_view_module_version": "1.5.0",
            "_view_name": "ProgressView",
            "bar_style": "success",
            "description": "",
            "description_tooltip": null,
            "layout": "IPY_MODEL_fdd7c146cbe34fbca023c3eb853b32dd",
            "max": 689883116,
            "min": 0,
            "orientation": "horizontal",
            "style": "IPY_MODEL_c1c624bf09214d0c81f70b0c4b25fcd5",
            "value": 689883116
          }
        },
        "4073977b361b48b7b9ebcf850970738e": {
          "model_module": "@jupyter-widgets/controls",
          "model_name": "HTMLModel",
          "model_module_version": "1.5.0",
          "state": {
            "_dom_classes": [],
            "_model_module": "@jupyter-widgets/controls",
            "_model_module_version": "1.5.0",
            "_model_name": "HTMLModel",
            "_view_count": null,
            "_view_module": "@jupyter-widgets/controls",
            "_view_module_version": "1.5.0",
            "_view_name": "HTMLView",
            "description": "",
            "description_tooltip": null,
            "layout": "IPY_MODEL_11471f1378414282bc8e664ed6cb649a",
            "placeholder": "​",
            "style": "IPY_MODEL_c4f29d73882143d5ad7c52dedfd609e9",
            "value": " 690M/690M [00:14&lt;00:00, 58.3MB/s]"
          }
        },
        "6e77a5b3910941868220459910963fe0": {
          "model_module": "@jupyter-widgets/base",
          "model_name": "LayoutModel",
          "model_module_version": "1.2.0",
          "state": {
            "_model_module": "@jupyter-widgets/base",
            "_model_module_version": "1.2.0",
            "_model_name": "LayoutModel",
            "_view_count": null,
            "_view_module": "@jupyter-widgets/base",
            "_view_module_version": "1.2.0",
            "_view_name": "LayoutView",
            "align_content": null,
            "align_items": null,
            "align_self": null,
            "border": null,
            "bottom": null,
            "display": null,
            "flex": null,
            "flex_flow": null,
            "grid_area": null,
            "grid_auto_columns": null,
            "grid_auto_flow": null,
            "grid_auto_rows": null,
            "grid_column": null,
            "grid_gap": null,
            "grid_row": null,
            "grid_template_areas": null,
            "grid_template_columns": null,
            "grid_template_rows": null,
            "height": null,
            "justify_content": null,
            "justify_items": null,
            "left": null,
            "margin": null,
            "max_height": null,
            "max_width": null,
            "min_height": null,
            "min_width": null,
            "object_fit": null,
            "object_position": null,
            "order": null,
            "overflow": null,
            "overflow_x": null,
            "overflow_y": null,
            "padding": null,
            "right": null,
            "top": null,
            "visibility": null,
            "width": null
          }
        },
        "564a74fdc52f47809036bd80318397af": {
          "model_module": "@jupyter-widgets/base",
          "model_name": "LayoutModel",
          "model_module_version": "1.2.0",
          "state": {
            "_model_module": "@jupyter-widgets/base",
            "_model_module_version": "1.2.0",
            "_model_name": "LayoutModel",
            "_view_count": null,
            "_view_module": "@jupyter-widgets/base",
            "_view_module_version": "1.2.0",
            "_view_name": "LayoutView",
            "align_content": null,
            "align_items": null,
            "align_self": null,
            "border": null,
            "bottom": null,
            "display": null,
            "flex": null,
            "flex_flow": null,
            "grid_area": null,
            "grid_auto_columns": null,
            "grid_auto_flow": null,
            "grid_auto_rows": null,
            "grid_column": null,
            "grid_gap": null,
            "grid_row": null,
            "grid_template_areas": null,
            "grid_template_columns": null,
            "grid_template_rows": null,
            "height": null,
            "justify_content": null,
            "justify_items": null,
            "left": null,
            "margin": null,
            "max_height": null,
            "max_width": null,
            "min_height": null,
            "min_width": null,
            "object_fit": null,
            "object_position": null,
            "order": null,
            "overflow": null,
            "overflow_x": null,
            "overflow_y": null,
            "padding": null,
            "right": null,
            "top": null,
            "visibility": null,
            "width": null
          }
        },
        "386aa5e7ee4342be82b8a0cb5318874a": {
          "model_module": "@jupyter-widgets/controls",
          "model_name": "DescriptionStyleModel",
          "model_module_version": "1.5.0",
          "state": {
            "_model_module": "@jupyter-widgets/controls",
            "_model_module_version": "1.5.0",
            "_model_name": "DescriptionStyleModel",
            "_view_count": null,
            "_view_module": "@jupyter-widgets/base",
            "_view_module_version": "1.2.0",
            "_view_name": "StyleView",
            "description_width": ""
          }
        },
        "fdd7c146cbe34fbca023c3eb853b32dd": {
          "model_module": "@jupyter-widgets/base",
          "model_name": "LayoutModel",
          "model_module_version": "1.2.0",
          "state": {
            "_model_module": "@jupyter-widgets/base",
            "_model_module_version": "1.2.0",
            "_model_name": "LayoutModel",
            "_view_count": null,
            "_view_module": "@jupyter-widgets/base",
            "_view_module_version": "1.2.0",
            "_view_name": "LayoutView",
            "align_content": null,
            "align_items": null,
            "align_self": null,
            "border": null,
            "bottom": null,
            "display": null,
            "flex": null,
            "flex_flow": null,
            "grid_area": null,
            "grid_auto_columns": null,
            "grid_auto_flow": null,
            "grid_auto_rows": null,
            "grid_column": null,
            "grid_gap": null,
            "grid_row": null,
            "grid_template_areas": null,
            "grid_template_columns": null,
            "grid_template_rows": null,
            "height": null,
            "justify_content": null,
            "justify_items": null,
            "left": null,
            "margin": null,
            "max_height": null,
            "max_width": null,
            "min_height": null,
            "min_width": null,
            "object_fit": null,
            "object_position": null,
            "order": null,
            "overflow": null,
            "overflow_x": null,
            "overflow_y": null,
            "padding": null,
            "right": null,
            "top": null,
            "visibility": null,
            "width": null
          }
        },
        "c1c624bf09214d0c81f70b0c4b25fcd5": {
          "model_module": "@jupyter-widgets/controls",
          "model_name": "ProgressStyleModel",
          "model_module_version": "1.5.0",
          "state": {
            "_model_module": "@jupyter-widgets/controls",
            "_model_module_version": "1.5.0",
            "_model_name": "ProgressStyleModel",
            "_view_count": null,
            "_view_module": "@jupyter-widgets/base",
            "_view_module_version": "1.2.0",
            "_view_name": "StyleView",
            "bar_color": null,
            "description_width": ""
          }
        },
        "11471f1378414282bc8e664ed6cb649a": {
          "model_module": "@jupyter-widgets/base",
          "model_name": "LayoutModel",
          "model_module_version": "1.2.0",
          "state": {
            "_model_module": "@jupyter-widgets/base",
            "_model_module_version": "1.2.0",
            "_model_name": "LayoutModel",
            "_view_count": null,
            "_view_module": "@jupyter-widgets/base",
            "_view_module_version": "1.2.0",
            "_view_name": "LayoutView",
            "align_content": null,
            "align_items": null,
            "align_self": null,
            "border": null,
            "bottom": null,
            "display": null,
            "flex": null,
            "flex_flow": null,
            "grid_area": null,
            "grid_auto_columns": null,
            "grid_auto_flow": null,
            "grid_auto_rows": null,
            "grid_column": null,
            "grid_gap": null,
            "grid_row": null,
            "grid_template_areas": null,
            "grid_template_columns": null,
            "grid_template_rows": null,
            "height": null,
            "justify_content": null,
            "justify_items": null,
            "left": null,
            "margin": null,
            "max_height": null,
            "max_width": null,
            "min_height": null,
            "min_width": null,
            "object_fit": null,
            "object_position": null,
            "order": null,
            "overflow": null,
            "overflow_x": null,
            "overflow_y": null,
            "padding": null,
            "right": null,
            "top": null,
            "visibility": null,
            "width": null
          }
        },
        "c4f29d73882143d5ad7c52dedfd609e9": {
          "model_module": "@jupyter-widgets/controls",
          "model_name": "DescriptionStyleModel",
          "model_module_version": "1.5.0",
          "state": {
            "_model_module": "@jupyter-widgets/controls",
            "_model_module_version": "1.5.0",
            "_model_name": "DescriptionStyleModel",
            "_view_count": null,
            "_view_module": "@jupyter-widgets/base",
            "_view_module_version": "1.2.0",
            "_view_name": "StyleView",
            "description_width": ""
          }
        },
        "ac6b78f9c6fe4300895e7d577379eb95": {
          "model_module": "@jupyter-widgets/controls",
          "model_name": "HBoxModel",
          "model_module_version": "1.5.0",
          "state": {
            "_dom_classes": [],
            "_model_module": "@jupyter-widgets/controls",
            "_model_module_version": "1.5.0",
            "_model_name": "HBoxModel",
            "_view_count": null,
            "_view_module": "@jupyter-widgets/controls",
            "_view_module_version": "1.5.0",
            "_view_name": "HBoxView",
            "box_style": "",
            "children": [
              "IPY_MODEL_22974fb9fc6f4caca3ab17d53e4a8133",
              "IPY_MODEL_0abbe72dcce945c69bed5b0047ce30ad",
              "IPY_MODEL_47e5259d19b94551a287e32a60faf30b"
            ],
            "layout": "IPY_MODEL_6d6ff4b2d6f74839be18f6901a3b0398"
          }
        },
        "22974fb9fc6f4caca3ab17d53e4a8133": {
          "model_module": "@jupyter-widgets/controls",
          "model_name": "HTMLModel",
          "model_module_version": "1.5.0",
          "state": {
            "_dom_classes": [],
            "_model_module": "@jupyter-widgets/controls",
            "_model_module_version": "1.5.0",
            "_model_name": "HTMLModel",
            "_view_count": null,
            "_view_module": "@jupyter-widgets/controls",
            "_view_module_version": "1.5.0",
            "_view_name": "HTMLView",
            "description": "",
            "description_tooltip": null,
            "layout": "IPY_MODEL_15a3b0e7c91a4652a69a82ced7dd41fa",
            "placeholder": "​",
            "style": "IPY_MODEL_81b80061d23d44f48b34db9923ca83f6",
            "value": "preprocessor_config.json: 100%"
          }
        },
        "0abbe72dcce945c69bed5b0047ce30ad": {
          "model_module": "@jupyter-widgets/controls",
          "model_name": "FloatProgressModel",
          "model_module_version": "1.5.0",
          "state": {
            "_dom_classes": [],
            "_model_module": "@jupyter-widgets/controls",
            "_model_module_version": "1.5.0",
            "_model_name": "FloatProgressModel",
            "_view_count": null,
            "_view_module": "@jupyter-widgets/controls",
            "_view_module_version": "1.5.0",
            "_view_name": "ProgressView",
            "bar_style": "success",
            "description": "",
            "description_tooltip": null,
            "layout": "IPY_MODEL_8f1d9806f9c74ec89ce74f6a027689fd",
            "max": 508,
            "min": 0,
            "orientation": "horizontal",
            "style": "IPY_MODEL_43a303bb6b0f490bb6386f161c1e936d",
            "value": 508
          }
        },
        "47e5259d19b94551a287e32a60faf30b": {
          "model_module": "@jupyter-widgets/controls",
          "model_name": "HTMLModel",
          "model_module_version": "1.5.0",
          "state": {
            "_dom_classes": [],
            "_model_module": "@jupyter-widgets/controls",
            "_model_module_version": "1.5.0",
            "_model_name": "HTMLModel",
            "_view_count": null,
            "_view_module": "@jupyter-widgets/controls",
            "_view_module_version": "1.5.0",
            "_view_name": "HTMLView",
            "description": "",
            "description_tooltip": null,
            "layout": "IPY_MODEL_4cfaff8884ed41b2bac70852079c2260",
            "placeholder": "​",
            "style": "IPY_MODEL_0f2259fd46494593816af9753d34c8af",
            "value": " 508/508 [00:00&lt;00:00, 18.4kB/s]"
          }
        },
        "6d6ff4b2d6f74839be18f6901a3b0398": {
          "model_module": "@jupyter-widgets/base",
          "model_name": "LayoutModel",
          "model_module_version": "1.2.0",
          "state": {
            "_model_module": "@jupyter-widgets/base",
            "_model_module_version": "1.2.0",
            "_model_name": "LayoutModel",
            "_view_count": null,
            "_view_module": "@jupyter-widgets/base",
            "_view_module_version": "1.2.0",
            "_view_name": "LayoutView",
            "align_content": null,
            "align_items": null,
            "align_self": null,
            "border": null,
            "bottom": null,
            "display": null,
            "flex": null,
            "flex_flow": null,
            "grid_area": null,
            "grid_auto_columns": null,
            "grid_auto_flow": null,
            "grid_auto_rows": null,
            "grid_column": null,
            "grid_gap": null,
            "grid_row": null,
            "grid_template_areas": null,
            "grid_template_columns": null,
            "grid_template_rows": null,
            "height": null,
            "justify_content": null,
            "justify_items": null,
            "left": null,
            "margin": null,
            "max_height": null,
            "max_width": null,
            "min_height": null,
            "min_width": null,
            "object_fit": null,
            "object_position": null,
            "order": null,
            "overflow": null,
            "overflow_x": null,
            "overflow_y": null,
            "padding": null,
            "right": null,
            "top": null,
            "visibility": null,
            "width": null
          }
        },
        "15a3b0e7c91a4652a69a82ced7dd41fa": {
          "model_module": "@jupyter-widgets/base",
          "model_name": "LayoutModel",
          "model_module_version": "1.2.0",
          "state": {
            "_model_module": "@jupyter-widgets/base",
            "_model_module_version": "1.2.0",
            "_model_name": "LayoutModel",
            "_view_count": null,
            "_view_module": "@jupyter-widgets/base",
            "_view_module_version": "1.2.0",
            "_view_name": "LayoutView",
            "align_content": null,
            "align_items": null,
            "align_self": null,
            "border": null,
            "bottom": null,
            "display": null,
            "flex": null,
            "flex_flow": null,
            "grid_area": null,
            "grid_auto_columns": null,
            "grid_auto_flow": null,
            "grid_auto_rows": null,
            "grid_column": null,
            "grid_gap": null,
            "grid_row": null,
            "grid_template_areas": null,
            "grid_template_columns": null,
            "grid_template_rows": null,
            "height": null,
            "justify_content": null,
            "justify_items": null,
            "left": null,
            "margin": null,
            "max_height": null,
            "max_width": null,
            "min_height": null,
            "min_width": null,
            "object_fit": null,
            "object_position": null,
            "order": null,
            "overflow": null,
            "overflow_x": null,
            "overflow_y": null,
            "padding": null,
            "right": null,
            "top": null,
            "visibility": null,
            "width": null
          }
        },
        "81b80061d23d44f48b34db9923ca83f6": {
          "model_module": "@jupyter-widgets/controls",
          "model_name": "DescriptionStyleModel",
          "model_module_version": "1.5.0",
          "state": {
            "_model_module": "@jupyter-widgets/controls",
            "_model_module_version": "1.5.0",
            "_model_name": "DescriptionStyleModel",
            "_view_count": null,
            "_view_module": "@jupyter-widgets/base",
            "_view_module_version": "1.2.0",
            "_view_name": "StyleView",
            "description_width": ""
          }
        },
        "8f1d9806f9c74ec89ce74f6a027689fd": {
          "model_module": "@jupyter-widgets/base",
          "model_name": "LayoutModel",
          "model_module_version": "1.2.0",
          "state": {
            "_model_module": "@jupyter-widgets/base",
            "_model_module_version": "1.2.0",
            "_model_name": "LayoutModel",
            "_view_count": null,
            "_view_module": "@jupyter-widgets/base",
            "_view_module_version": "1.2.0",
            "_view_name": "LayoutView",
            "align_content": null,
            "align_items": null,
            "align_self": null,
            "border": null,
            "bottom": null,
            "display": null,
            "flex": null,
            "flex_flow": null,
            "grid_area": null,
            "grid_auto_columns": null,
            "grid_auto_flow": null,
            "grid_auto_rows": null,
            "grid_column": null,
            "grid_gap": null,
            "grid_row": null,
            "grid_template_areas": null,
            "grid_template_columns": null,
            "grid_template_rows": null,
            "height": null,
            "justify_content": null,
            "justify_items": null,
            "left": null,
            "margin": null,
            "max_height": null,
            "max_width": null,
            "min_height": null,
            "min_width": null,
            "object_fit": null,
            "object_position": null,
            "order": null,
            "overflow": null,
            "overflow_x": null,
            "overflow_y": null,
            "padding": null,
            "right": null,
            "top": null,
            "visibility": null,
            "width": null
          }
        },
        "43a303bb6b0f490bb6386f161c1e936d": {
          "model_module": "@jupyter-widgets/controls",
          "model_name": "ProgressStyleModel",
          "model_module_version": "1.5.0",
          "state": {
            "_model_module": "@jupyter-widgets/controls",
            "_model_module_version": "1.5.0",
            "_model_name": "ProgressStyleModel",
            "_view_count": null,
            "_view_module": "@jupyter-widgets/base",
            "_view_module_version": "1.2.0",
            "_view_name": "StyleView",
            "bar_color": null,
            "description_width": ""
          }
        },
        "4cfaff8884ed41b2bac70852079c2260": {
          "model_module": "@jupyter-widgets/base",
          "model_name": "LayoutModel",
          "model_module_version": "1.2.0",
          "state": {
            "_model_module": "@jupyter-widgets/base",
            "_model_module_version": "1.2.0",
            "_model_name": "LayoutModel",
            "_view_count": null,
            "_view_module": "@jupyter-widgets/base",
            "_view_module_version": "1.2.0",
            "_view_name": "LayoutView",
            "align_content": null,
            "align_items": null,
            "align_self": null,
            "border": null,
            "bottom": null,
            "display": null,
            "flex": null,
            "flex_flow": null,
            "grid_area": null,
            "grid_auto_columns": null,
            "grid_auto_flow": null,
            "grid_auto_rows": null,
            "grid_column": null,
            "grid_gap": null,
            "grid_row": null,
            "grid_template_areas": null,
            "grid_template_columns": null,
            "grid_template_rows": null,
            "height": null,
            "justify_content": null,
            "justify_items": null,
            "left": null,
            "margin": null,
            "max_height": null,
            "max_width": null,
            "min_height": null,
            "min_width": null,
            "object_fit": null,
            "object_position": null,
            "order": null,
            "overflow": null,
            "overflow_x": null,
            "overflow_y": null,
            "padding": null,
            "right": null,
            "top": null,
            "visibility": null,
            "width": null
          }
        },
        "0f2259fd46494593816af9753d34c8af": {
          "model_module": "@jupyter-widgets/controls",
          "model_name": "DescriptionStyleModel",
          "model_module_version": "1.5.0",
          "state": {
            "_model_module": "@jupyter-widgets/controls",
            "_model_module_version": "1.5.0",
            "_model_name": "DescriptionStyleModel",
            "_view_count": null,
            "_view_module": "@jupyter-widgets/base",
            "_view_module_version": "1.2.0",
            "_view_name": "StyleView",
            "description_width": ""
          }
        },
        "b61a1caf0ee7413d994c7ac360ba1d2e": {
          "model_module": "@jupyter-widgets/controls",
          "model_name": "HBoxModel",
          "model_module_version": "1.5.0",
          "state": {
            "_dom_classes": [],
            "_model_module": "@jupyter-widgets/controls",
            "_model_module_version": "1.5.0",
            "_model_name": "HBoxModel",
            "_view_count": null,
            "_view_module": "@jupyter-widgets/controls",
            "_view_module_version": "1.5.0",
            "_view_name": "HBoxView",
            "box_style": "",
            "children": [
              "IPY_MODEL_45c0d021908f45b5b0aa2e9b89456777",
              "IPY_MODEL_a3d744077fdb43138222e3b76fa82c04",
              "IPY_MODEL_e28e207f734c4c11b8657c2a6aa09bfb"
            ],
            "layout": "IPY_MODEL_012ab42c79e4427795edae284d81efac"
          }
        },
        "45c0d021908f45b5b0aa2e9b89456777": {
          "model_module": "@jupyter-widgets/controls",
          "model_name": "HTMLModel",
          "model_module_version": "1.5.0",
          "state": {
            "_dom_classes": [],
            "_model_module": "@jupyter-widgets/controls",
            "_model_module_version": "1.5.0",
            "_model_name": "HTMLModel",
            "_view_count": null,
            "_view_module": "@jupyter-widgets/controls",
            "_view_module_version": "1.5.0",
            "_view_name": "HTMLView",
            "description": "",
            "description_tooltip": null,
            "layout": "IPY_MODEL_c9cf21cd3904493eac7e9abe6a91fb9f",
            "placeholder": "​",
            "style": "IPY_MODEL_56bfb430a5c24b8fbeafd67396c6268d",
            "value": "tokenizer_config.json: 100%"
          }
        },
        "a3d744077fdb43138222e3b76fa82c04": {
          "model_module": "@jupyter-widgets/controls",
          "model_name": "FloatProgressModel",
          "model_module_version": "1.5.0",
          "state": {
            "_dom_classes": [],
            "_model_module": "@jupyter-widgets/controls",
            "_model_module_version": "1.5.0",
            "_model_name": "FloatProgressModel",
            "_view_count": null,
            "_view_module": "@jupyter-widgets/controls",
            "_view_module_version": "1.5.0",
            "_view_name": "ProgressView",
            "bar_style": "success",
            "description": "",
            "description_tooltip": null,
            "layout": "IPY_MODEL_06c4a254faa4401697a2dae273c0fc59",
            "max": 399,
            "min": 0,
            "orientation": "horizontal",
            "style": "IPY_MODEL_9b2ba4611ff241058b6e21f203f70bb0",
            "value": 399
          }
        },
        "e28e207f734c4c11b8657c2a6aa09bfb": {
          "model_module": "@jupyter-widgets/controls",
          "model_name": "HTMLModel",
          "model_module_version": "1.5.0",
          "state": {
            "_dom_classes": [],
            "_model_module": "@jupyter-widgets/controls",
            "_model_module_version": "1.5.0",
            "_model_name": "HTMLModel",
            "_view_count": null,
            "_view_module": "@jupyter-widgets/controls",
            "_view_module_version": "1.5.0",
            "_view_name": "HTMLView",
            "description": "",
            "description_tooltip": null,
            "layout": "IPY_MODEL_3cf385b22cde43e5b09158adc6ef826e",
            "placeholder": "​",
            "style": "IPY_MODEL_82c995d58e3f4f3f9b9c0cb90a2e3a53",
            "value": " 399/399 [00:00&lt;00:00, 7.68kB/s]"
          }
        },
        "012ab42c79e4427795edae284d81efac": {
          "model_module": "@jupyter-widgets/base",
          "model_name": "LayoutModel",
          "model_module_version": "1.2.0",
          "state": {
            "_model_module": "@jupyter-widgets/base",
            "_model_module_version": "1.2.0",
            "_model_name": "LayoutModel",
            "_view_count": null,
            "_view_module": "@jupyter-widgets/base",
            "_view_module_version": "1.2.0",
            "_view_name": "LayoutView",
            "align_content": null,
            "align_items": null,
            "align_self": null,
            "border": null,
            "bottom": null,
            "display": null,
            "flex": null,
            "flex_flow": null,
            "grid_area": null,
            "grid_auto_columns": null,
            "grid_auto_flow": null,
            "grid_auto_rows": null,
            "grid_column": null,
            "grid_gap": null,
            "grid_row": null,
            "grid_template_areas": null,
            "grid_template_columns": null,
            "grid_template_rows": null,
            "height": null,
            "justify_content": null,
            "justify_items": null,
            "left": null,
            "margin": null,
            "max_height": null,
            "max_width": null,
            "min_height": null,
            "min_width": null,
            "object_fit": null,
            "object_position": null,
            "order": null,
            "overflow": null,
            "overflow_x": null,
            "overflow_y": null,
            "padding": null,
            "right": null,
            "top": null,
            "visibility": null,
            "width": null
          }
        },
        "c9cf21cd3904493eac7e9abe6a91fb9f": {
          "model_module": "@jupyter-widgets/base",
          "model_name": "LayoutModel",
          "model_module_version": "1.2.0",
          "state": {
            "_model_module": "@jupyter-widgets/base",
            "_model_module_version": "1.2.0",
            "_model_name": "LayoutModel",
            "_view_count": null,
            "_view_module": "@jupyter-widgets/base",
            "_view_module_version": "1.2.0",
            "_view_name": "LayoutView",
            "align_content": null,
            "align_items": null,
            "align_self": null,
            "border": null,
            "bottom": null,
            "display": null,
            "flex": null,
            "flex_flow": null,
            "grid_area": null,
            "grid_auto_columns": null,
            "grid_auto_flow": null,
            "grid_auto_rows": null,
            "grid_column": null,
            "grid_gap": null,
            "grid_row": null,
            "grid_template_areas": null,
            "grid_template_columns": null,
            "grid_template_rows": null,
            "height": null,
            "justify_content": null,
            "justify_items": null,
            "left": null,
            "margin": null,
            "max_height": null,
            "max_width": null,
            "min_height": null,
            "min_width": null,
            "object_fit": null,
            "object_position": null,
            "order": null,
            "overflow": null,
            "overflow_x": null,
            "overflow_y": null,
            "padding": null,
            "right": null,
            "top": null,
            "visibility": null,
            "width": null
          }
        },
        "56bfb430a5c24b8fbeafd67396c6268d": {
          "model_module": "@jupyter-widgets/controls",
          "model_name": "DescriptionStyleModel",
          "model_module_version": "1.5.0",
          "state": {
            "_model_module": "@jupyter-widgets/controls",
            "_model_module_version": "1.5.0",
            "_model_name": "DescriptionStyleModel",
            "_view_count": null,
            "_view_module": "@jupyter-widgets/base",
            "_view_module_version": "1.2.0",
            "_view_name": "StyleView",
            "description_width": ""
          }
        },
        "06c4a254faa4401697a2dae273c0fc59": {
          "model_module": "@jupyter-widgets/base",
          "model_name": "LayoutModel",
          "model_module_version": "1.2.0",
          "state": {
            "_model_module": "@jupyter-widgets/base",
            "_model_module_version": "1.2.0",
            "_model_name": "LayoutModel",
            "_view_count": null,
            "_view_module": "@jupyter-widgets/base",
            "_view_module_version": "1.2.0",
            "_view_name": "LayoutView",
            "align_content": null,
            "align_items": null,
            "align_self": null,
            "border": null,
            "bottom": null,
            "display": null,
            "flex": null,
            "flex_flow": null,
            "grid_area": null,
            "grid_auto_columns": null,
            "grid_auto_flow": null,
            "grid_auto_rows": null,
            "grid_column": null,
            "grid_gap": null,
            "grid_row": null,
            "grid_template_areas": null,
            "grid_template_columns": null,
            "grid_template_rows": null,
            "height": null,
            "justify_content": null,
            "justify_items": null,
            "left": null,
            "margin": null,
            "max_height": null,
            "max_width": null,
            "min_height": null,
            "min_width": null,
            "object_fit": null,
            "object_position": null,
            "order": null,
            "overflow": null,
            "overflow_x": null,
            "overflow_y": null,
            "padding": null,
            "right": null,
            "top": null,
            "visibility": null,
            "width": null
          }
        },
        "9b2ba4611ff241058b6e21f203f70bb0": {
          "model_module": "@jupyter-widgets/controls",
          "model_name": "ProgressStyleModel",
          "model_module_version": "1.5.0",
          "state": {
            "_model_module": "@jupyter-widgets/controls",
            "_model_module_version": "1.5.0",
            "_model_name": "ProgressStyleModel",
            "_view_count": null,
            "_view_module": "@jupyter-widgets/base",
            "_view_module_version": "1.2.0",
            "_view_name": "StyleView",
            "bar_color": null,
            "description_width": ""
          }
        },
        "3cf385b22cde43e5b09158adc6ef826e": {
          "model_module": "@jupyter-widgets/base",
          "model_name": "LayoutModel",
          "model_module_version": "1.2.0",
          "state": {
            "_model_module": "@jupyter-widgets/base",
            "_model_module_version": "1.2.0",
            "_model_name": "LayoutModel",
            "_view_count": null,
            "_view_module": "@jupyter-widgets/base",
            "_view_module_version": "1.2.0",
            "_view_name": "LayoutView",
            "align_content": null,
            "align_items": null,
            "align_self": null,
            "border": null,
            "bottom": null,
            "display": null,
            "flex": null,
            "flex_flow": null,
            "grid_area": null,
            "grid_auto_columns": null,
            "grid_auto_flow": null,
            "grid_auto_rows": null,
            "grid_column": null,
            "grid_gap": null,
            "grid_row": null,
            "grid_template_areas": null,
            "grid_template_columns": null,
            "grid_template_rows": null,
            "height": null,
            "justify_content": null,
            "justify_items": null,
            "left": null,
            "margin": null,
            "max_height": null,
            "max_width": null,
            "min_height": null,
            "min_width": null,
            "object_fit": null,
            "object_position": null,
            "order": null,
            "overflow": null,
            "overflow_x": null,
            "overflow_y": null,
            "padding": null,
            "right": null,
            "top": null,
            "visibility": null,
            "width": null
          }
        },
        "82c995d58e3f4f3f9b9c0cb90a2e3a53": {
          "model_module": "@jupyter-widgets/controls",
          "model_name": "DescriptionStyleModel",
          "model_module_version": "1.5.0",
          "state": {
            "_model_module": "@jupyter-widgets/controls",
            "_model_module_version": "1.5.0",
            "_model_name": "DescriptionStyleModel",
            "_view_count": null,
            "_view_module": "@jupyter-widgets/base",
            "_view_module_version": "1.2.0",
            "_view_name": "StyleView",
            "description_width": ""
          }
        },
        "57b9c6bfeed1424b86a68477cba89a9e": {
          "model_module": "@jupyter-widgets/controls",
          "model_name": "HBoxModel",
          "model_module_version": "1.5.0",
          "state": {
            "_dom_classes": [],
            "_model_module": "@jupyter-widgets/controls",
            "_model_module_version": "1.5.0",
            "_model_name": "HBoxModel",
            "_view_count": null,
            "_view_module": "@jupyter-widgets/controls",
            "_view_module_version": "1.5.0",
            "_view_name": "HBoxView",
            "box_style": "",
            "children": [
              "IPY_MODEL_c99c0af32e694fc589bd7558415f0fde",
              "IPY_MODEL_65dfab7ed8cd4142a5da3e1b1dce0300",
              "IPY_MODEL_fa377391fbf84b59abc4c317e4ce50c0"
            ],
            "layout": "IPY_MODEL_f949f5d10ebe49b9b8ef558757fc5744"
          }
        },
        "c99c0af32e694fc589bd7558415f0fde": {
          "model_module": "@jupyter-widgets/controls",
          "model_name": "HTMLModel",
          "model_module_version": "1.5.0",
          "state": {
            "_dom_classes": [],
            "_model_module": "@jupyter-widgets/controls",
            "_model_module_version": "1.5.0",
            "_model_name": "HTMLModel",
            "_view_count": null,
            "_view_module": "@jupyter-widgets/controls",
            "_view_module_version": "1.5.0",
            "_view_name": "HTMLView",
            "description": "",
            "description_tooltip": null,
            "layout": "IPY_MODEL_32ba9e1d20c7435c821d9774f0df71b8",
            "placeholder": "​",
            "style": "IPY_MODEL_162add64d4dd4dbc989025fc6ced9105",
            "value": "vocab.txt: 100%"
          }
        },
        "65dfab7ed8cd4142a5da3e1b1dce0300": {
          "model_module": "@jupyter-widgets/controls",
          "model_name": "FloatProgressModel",
          "model_module_version": "1.5.0",
          "state": {
            "_dom_classes": [],
            "_model_module": "@jupyter-widgets/controls",
            "_model_module_version": "1.5.0",
            "_model_name": "FloatProgressModel",
            "_view_count": null,
            "_view_module": "@jupyter-widgets/controls",
            "_view_module_version": "1.5.0",
            "_view_name": "ProgressView",
            "bar_style": "success",
            "description": "",
            "description_tooltip": null,
            "layout": "IPY_MODEL_62b56f4ef922413aa38d1f8bae17c27e",
            "max": 231508,
            "min": 0,
            "orientation": "horizontal",
            "style": "IPY_MODEL_9b74728bc82d4fe5ba5b8a3a410c805c",
            "value": 231508
          }
        },
        "fa377391fbf84b59abc4c317e4ce50c0": {
          "model_module": "@jupyter-widgets/controls",
          "model_name": "HTMLModel",
          "model_module_version": "1.5.0",
          "state": {
            "_dom_classes": [],
            "_model_module": "@jupyter-widgets/controls",
            "_model_module_version": "1.5.0",
            "_model_name": "HTMLModel",
            "_view_count": null,
            "_view_module": "@jupyter-widgets/controls",
            "_view_module_version": "1.5.0",
            "_view_name": "HTMLView",
            "description": "",
            "description_tooltip": null,
            "layout": "IPY_MODEL_520ab50462ce43f588bfc1ec6f4590c1",
            "placeholder": "​",
            "style": "IPY_MODEL_67a240172f1544a097f3a8c230f9c6eb",
            "value": " 232k/232k [00:00&lt;00:00, 2.63MB/s]"
          }
        },
        "f949f5d10ebe49b9b8ef558757fc5744": {
          "model_module": "@jupyter-widgets/base",
          "model_name": "LayoutModel",
          "model_module_version": "1.2.0",
          "state": {
            "_model_module": "@jupyter-widgets/base",
            "_model_module_version": "1.2.0",
            "_model_name": "LayoutModel",
            "_view_count": null,
            "_view_module": "@jupyter-widgets/base",
            "_view_module_version": "1.2.0",
            "_view_name": "LayoutView",
            "align_content": null,
            "align_items": null,
            "align_self": null,
            "border": null,
            "bottom": null,
            "display": null,
            "flex": null,
            "flex_flow": null,
            "grid_area": null,
            "grid_auto_columns": null,
            "grid_auto_flow": null,
            "grid_auto_rows": null,
            "grid_column": null,
            "grid_gap": null,
            "grid_row": null,
            "grid_template_areas": null,
            "grid_template_columns": null,
            "grid_template_rows": null,
            "height": null,
            "justify_content": null,
            "justify_items": null,
            "left": null,
            "margin": null,
            "max_height": null,
            "max_width": null,
            "min_height": null,
            "min_width": null,
            "object_fit": null,
            "object_position": null,
            "order": null,
            "overflow": null,
            "overflow_x": null,
            "overflow_y": null,
            "padding": null,
            "right": null,
            "top": null,
            "visibility": null,
            "width": null
          }
        },
        "32ba9e1d20c7435c821d9774f0df71b8": {
          "model_module": "@jupyter-widgets/base",
          "model_name": "LayoutModel",
          "model_module_version": "1.2.0",
          "state": {
            "_model_module": "@jupyter-widgets/base",
            "_model_module_version": "1.2.0",
            "_model_name": "LayoutModel",
            "_view_count": null,
            "_view_module": "@jupyter-widgets/base",
            "_view_module_version": "1.2.0",
            "_view_name": "LayoutView",
            "align_content": null,
            "align_items": null,
            "align_self": null,
            "border": null,
            "bottom": null,
            "display": null,
            "flex": null,
            "flex_flow": null,
            "grid_area": null,
            "grid_auto_columns": null,
            "grid_auto_flow": null,
            "grid_auto_rows": null,
            "grid_column": null,
            "grid_gap": null,
            "grid_row": null,
            "grid_template_areas": null,
            "grid_template_columns": null,
            "grid_template_rows": null,
            "height": null,
            "justify_content": null,
            "justify_items": null,
            "left": null,
            "margin": null,
            "max_height": null,
            "max_width": null,
            "min_height": null,
            "min_width": null,
            "object_fit": null,
            "object_position": null,
            "order": null,
            "overflow": null,
            "overflow_x": null,
            "overflow_y": null,
            "padding": null,
            "right": null,
            "top": null,
            "visibility": null,
            "width": null
          }
        },
        "162add64d4dd4dbc989025fc6ced9105": {
          "model_module": "@jupyter-widgets/controls",
          "model_name": "DescriptionStyleModel",
          "model_module_version": "1.5.0",
          "state": {
            "_model_module": "@jupyter-widgets/controls",
            "_model_module_version": "1.5.0",
            "_model_name": "DescriptionStyleModel",
            "_view_count": null,
            "_view_module": "@jupyter-widgets/base",
            "_view_module_version": "1.2.0",
            "_view_name": "StyleView",
            "description_width": ""
          }
        },
        "62b56f4ef922413aa38d1f8bae17c27e": {
          "model_module": "@jupyter-widgets/base",
          "model_name": "LayoutModel",
          "model_module_version": "1.2.0",
          "state": {
            "_model_module": "@jupyter-widgets/base",
            "_model_module_version": "1.2.0",
            "_model_name": "LayoutModel",
            "_view_count": null,
            "_view_module": "@jupyter-widgets/base",
            "_view_module_version": "1.2.0",
            "_view_name": "LayoutView",
            "align_content": null,
            "align_items": null,
            "align_self": null,
            "border": null,
            "bottom": null,
            "display": null,
            "flex": null,
            "flex_flow": null,
            "grid_area": null,
            "grid_auto_columns": null,
            "grid_auto_flow": null,
            "grid_auto_rows": null,
            "grid_column": null,
            "grid_gap": null,
            "grid_row": null,
            "grid_template_areas": null,
            "grid_template_columns": null,
            "grid_template_rows": null,
            "height": null,
            "justify_content": null,
            "justify_items": null,
            "left": null,
            "margin": null,
            "max_height": null,
            "max_width": null,
            "min_height": null,
            "min_width": null,
            "object_fit": null,
            "object_position": null,
            "order": null,
            "overflow": null,
            "overflow_x": null,
            "overflow_y": null,
            "padding": null,
            "right": null,
            "top": null,
            "visibility": null,
            "width": null
          }
        },
        "9b74728bc82d4fe5ba5b8a3a410c805c": {
          "model_module": "@jupyter-widgets/controls",
          "model_name": "ProgressStyleModel",
          "model_module_version": "1.5.0",
          "state": {
            "_model_module": "@jupyter-widgets/controls",
            "_model_module_version": "1.5.0",
            "_model_name": "ProgressStyleModel",
            "_view_count": null,
            "_view_module": "@jupyter-widgets/base",
            "_view_module_version": "1.2.0",
            "_view_name": "StyleView",
            "bar_color": null,
            "description_width": ""
          }
        },
        "520ab50462ce43f588bfc1ec6f4590c1": {
          "model_module": "@jupyter-widgets/base",
          "model_name": "LayoutModel",
          "model_module_version": "1.2.0",
          "state": {
            "_model_module": "@jupyter-widgets/base",
            "_model_module_version": "1.2.0",
            "_model_name": "LayoutModel",
            "_view_count": null,
            "_view_module": "@jupyter-widgets/base",
            "_view_module_version": "1.2.0",
            "_view_name": "LayoutView",
            "align_content": null,
            "align_items": null,
            "align_self": null,
            "border": null,
            "bottom": null,
            "display": null,
            "flex": null,
            "flex_flow": null,
            "grid_area": null,
            "grid_auto_columns": null,
            "grid_auto_flow": null,
            "grid_auto_rows": null,
            "grid_column": null,
            "grid_gap": null,
            "grid_row": null,
            "grid_template_areas": null,
            "grid_template_columns": null,
            "grid_template_rows": null,
            "height": null,
            "justify_content": null,
            "justify_items": null,
            "left": null,
            "margin": null,
            "max_height": null,
            "max_width": null,
            "min_height": null,
            "min_width": null,
            "object_fit": null,
            "object_position": null,
            "order": null,
            "overflow": null,
            "overflow_x": null,
            "overflow_y": null,
            "padding": null,
            "right": null,
            "top": null,
            "visibility": null,
            "width": null
          }
        },
        "67a240172f1544a097f3a8c230f9c6eb": {
          "model_module": "@jupyter-widgets/controls",
          "model_name": "DescriptionStyleModel",
          "model_module_version": "1.5.0",
          "state": {
            "_model_module": "@jupyter-widgets/controls",
            "_model_module_version": "1.5.0",
            "_model_name": "DescriptionStyleModel",
            "_view_count": null,
            "_view_module": "@jupyter-widgets/base",
            "_view_module_version": "1.2.0",
            "_view_name": "StyleView",
            "description_width": ""
          }
        },
        "00ac7702ded0401691050d8fa8513939": {
          "model_module": "@jupyter-widgets/controls",
          "model_name": "HBoxModel",
          "model_module_version": "1.5.0",
          "state": {
            "_dom_classes": [],
            "_model_module": "@jupyter-widgets/controls",
            "_model_module_version": "1.5.0",
            "_model_name": "HBoxModel",
            "_view_count": null,
            "_view_module": "@jupyter-widgets/controls",
            "_view_module_version": "1.5.0",
            "_view_name": "HBoxView",
            "box_style": "",
            "children": [
              "IPY_MODEL_c43859a6a2ca4798a6ff18fbb2e6fde2",
              "IPY_MODEL_3728113ed2a346d790fdde88ef6451e4",
              "IPY_MODEL_85792807e0f24985a1d3da16db5429ab"
            ],
            "layout": "IPY_MODEL_6188d87cec1c4592a78ed9651e1aa13d"
          }
        },
        "c43859a6a2ca4798a6ff18fbb2e6fde2": {
          "model_module": "@jupyter-widgets/controls",
          "model_name": "HTMLModel",
          "model_module_version": "1.5.0",
          "state": {
            "_dom_classes": [],
            "_model_module": "@jupyter-widgets/controls",
            "_model_module_version": "1.5.0",
            "_model_name": "HTMLModel",
            "_view_count": null,
            "_view_module": "@jupyter-widgets/controls",
            "_view_module_version": "1.5.0",
            "_view_name": "HTMLView",
            "description": "",
            "description_tooltip": null,
            "layout": "IPY_MODEL_0570735bffc8447cbf3b4581b4f58146",
            "placeholder": "​",
            "style": "IPY_MODEL_94b086341eaa46ef91329cc0a93aa4b6",
            "value": "special_tokens_map.json: 100%"
          }
        },
        "3728113ed2a346d790fdde88ef6451e4": {
          "model_module": "@jupyter-widgets/controls",
          "model_name": "FloatProgressModel",
          "model_module_version": "1.5.0",
          "state": {
            "_dom_classes": [],
            "_model_module": "@jupyter-widgets/controls",
            "_model_module_version": "1.5.0",
            "_model_name": "FloatProgressModel",
            "_view_count": null,
            "_view_module": "@jupyter-widgets/controls",
            "_view_module_version": "1.5.0",
            "_view_name": "ProgressView",
            "bar_style": "success",
            "description": "",
            "description_tooltip": null,
            "layout": "IPY_MODEL_b0a7e2ae39a9416a9c735e4fedeb3f56",
            "max": 125,
            "min": 0,
            "orientation": "horizontal",
            "style": "IPY_MODEL_07f8fc2b1e8342d2a4b077361583f674",
            "value": 125
          }
        },
        "85792807e0f24985a1d3da16db5429ab": {
          "model_module": "@jupyter-widgets/controls",
          "model_name": "HTMLModel",
          "model_module_version": "1.5.0",
          "state": {
            "_dom_classes": [],
            "_model_module": "@jupyter-widgets/controls",
            "_model_module_version": "1.5.0",
            "_model_name": "HTMLModel",
            "_view_count": null,
            "_view_module": "@jupyter-widgets/controls",
            "_view_module_version": "1.5.0",
            "_view_name": "HTMLView",
            "description": "",
            "description_tooltip": null,
            "layout": "IPY_MODEL_9e363f1f2fd14cf8899869cc96a0eb91",
            "placeholder": "​",
            "style": "IPY_MODEL_cd440302c2bc4694a81e24f926d4ebc7",
            "value": " 125/125 [00:00&lt;00:00, 10.1kB/s]"
          }
        },
        "6188d87cec1c4592a78ed9651e1aa13d": {
          "model_module": "@jupyter-widgets/base",
          "model_name": "LayoutModel",
          "model_module_version": "1.2.0",
          "state": {
            "_model_module": "@jupyter-widgets/base",
            "_model_module_version": "1.2.0",
            "_model_name": "LayoutModel",
            "_view_count": null,
            "_view_module": "@jupyter-widgets/base",
            "_view_module_version": "1.2.0",
            "_view_name": "LayoutView",
            "align_content": null,
            "align_items": null,
            "align_self": null,
            "border": null,
            "bottom": null,
            "display": null,
            "flex": null,
            "flex_flow": null,
            "grid_area": null,
            "grid_auto_columns": null,
            "grid_auto_flow": null,
            "grid_auto_rows": null,
            "grid_column": null,
            "grid_gap": null,
            "grid_row": null,
            "grid_template_areas": null,
            "grid_template_columns": null,
            "grid_template_rows": null,
            "height": null,
            "justify_content": null,
            "justify_items": null,
            "left": null,
            "margin": null,
            "max_height": null,
            "max_width": null,
            "min_height": null,
            "min_width": null,
            "object_fit": null,
            "object_position": null,
            "order": null,
            "overflow": null,
            "overflow_x": null,
            "overflow_y": null,
            "padding": null,
            "right": null,
            "top": null,
            "visibility": null,
            "width": null
          }
        },
        "0570735bffc8447cbf3b4581b4f58146": {
          "model_module": "@jupyter-widgets/base",
          "model_name": "LayoutModel",
          "model_module_version": "1.2.0",
          "state": {
            "_model_module": "@jupyter-widgets/base",
            "_model_module_version": "1.2.0",
            "_model_name": "LayoutModel",
            "_view_count": null,
            "_view_module": "@jupyter-widgets/base",
            "_view_module_version": "1.2.0",
            "_view_name": "LayoutView",
            "align_content": null,
            "align_items": null,
            "align_self": null,
            "border": null,
            "bottom": null,
            "display": null,
            "flex": null,
            "flex_flow": null,
            "grid_area": null,
            "grid_auto_columns": null,
            "grid_auto_flow": null,
            "grid_auto_rows": null,
            "grid_column": null,
            "grid_gap": null,
            "grid_row": null,
            "grid_template_areas": null,
            "grid_template_columns": null,
            "grid_template_rows": null,
            "height": null,
            "justify_content": null,
            "justify_items": null,
            "left": null,
            "margin": null,
            "max_height": null,
            "max_width": null,
            "min_height": null,
            "min_width": null,
            "object_fit": null,
            "object_position": null,
            "order": null,
            "overflow": null,
            "overflow_x": null,
            "overflow_y": null,
            "padding": null,
            "right": null,
            "top": null,
            "visibility": null,
            "width": null
          }
        },
        "94b086341eaa46ef91329cc0a93aa4b6": {
          "model_module": "@jupyter-widgets/controls",
          "model_name": "DescriptionStyleModel",
          "model_module_version": "1.5.0",
          "state": {
            "_model_module": "@jupyter-widgets/controls",
            "_model_module_version": "1.5.0",
            "_model_name": "DescriptionStyleModel",
            "_view_count": null,
            "_view_module": "@jupyter-widgets/base",
            "_view_module_version": "1.2.0",
            "_view_name": "StyleView",
            "description_width": ""
          }
        },
        "b0a7e2ae39a9416a9c735e4fedeb3f56": {
          "model_module": "@jupyter-widgets/base",
          "model_name": "LayoutModel",
          "model_module_version": "1.2.0",
          "state": {
            "_model_module": "@jupyter-widgets/base",
            "_model_module_version": "1.2.0",
            "_model_name": "LayoutModel",
            "_view_count": null,
            "_view_module": "@jupyter-widgets/base",
            "_view_module_version": "1.2.0",
            "_view_name": "LayoutView",
            "align_content": null,
            "align_items": null,
            "align_self": null,
            "border": null,
            "bottom": null,
            "display": null,
            "flex": null,
            "flex_flow": null,
            "grid_area": null,
            "grid_auto_columns": null,
            "grid_auto_flow": null,
            "grid_auto_rows": null,
            "grid_column": null,
            "grid_gap": null,
            "grid_row": null,
            "grid_template_areas": null,
            "grid_template_columns": null,
            "grid_template_rows": null,
            "height": null,
            "justify_content": null,
            "justify_items": null,
            "left": null,
            "margin": null,
            "max_height": null,
            "max_width": null,
            "min_height": null,
            "min_width": null,
            "object_fit": null,
            "object_position": null,
            "order": null,
            "overflow": null,
            "overflow_x": null,
            "overflow_y": null,
            "padding": null,
            "right": null,
            "top": null,
            "visibility": null,
            "width": null
          }
        },
        "07f8fc2b1e8342d2a4b077361583f674": {
          "model_module": "@jupyter-widgets/controls",
          "model_name": "ProgressStyleModel",
          "model_module_version": "1.5.0",
          "state": {
            "_model_module": "@jupyter-widgets/controls",
            "_model_module_version": "1.5.0",
            "_model_name": "ProgressStyleModel",
            "_view_count": null,
            "_view_module": "@jupyter-widgets/base",
            "_view_module_version": "1.2.0",
            "_view_name": "StyleView",
            "bar_color": null,
            "description_width": ""
          }
        },
        "9e363f1f2fd14cf8899869cc96a0eb91": {
          "model_module": "@jupyter-widgets/base",
          "model_name": "LayoutModel",
          "model_module_version": "1.2.0",
          "state": {
            "_model_module": "@jupyter-widgets/base",
            "_model_module_version": "1.2.0",
            "_model_name": "LayoutModel",
            "_view_count": null,
            "_view_module": "@jupyter-widgets/base",
            "_view_module_version": "1.2.0",
            "_view_name": "LayoutView",
            "align_content": null,
            "align_items": null,
            "align_self": null,
            "border": null,
            "bottom": null,
            "display": null,
            "flex": null,
            "flex_flow": null,
            "grid_area": null,
            "grid_auto_columns": null,
            "grid_auto_flow": null,
            "grid_auto_rows": null,
            "grid_column": null,
            "grid_gap": null,
            "grid_row": null,
            "grid_template_areas": null,
            "grid_template_columns": null,
            "grid_template_rows": null,
            "height": null,
            "justify_content": null,
            "justify_items": null,
            "left": null,
            "margin": null,
            "max_height": null,
            "max_width": null,
            "min_height": null,
            "min_width": null,
            "object_fit": null,
            "object_position": null,
            "order": null,
            "overflow": null,
            "overflow_x": null,
            "overflow_y": null,
            "padding": null,
            "right": null,
            "top": null,
            "visibility": null,
            "width": null
          }
        },
        "cd440302c2bc4694a81e24f926d4ebc7": {
          "model_module": "@jupyter-widgets/controls",
          "model_name": "DescriptionStyleModel",
          "model_module_version": "1.5.0",
          "state": {
            "_model_module": "@jupyter-widgets/controls",
            "_model_module_version": "1.5.0",
            "_model_name": "DescriptionStyleModel",
            "_view_count": null,
            "_view_module": "@jupyter-widgets/base",
            "_view_module_version": "1.2.0",
            "_view_name": "StyleView",
            "description_width": ""
          }
        }
      }
    }
  },
  "nbformat": 4,
  "nbformat_minor": 0
}